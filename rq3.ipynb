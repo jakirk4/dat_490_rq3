{
 "cells": [
  {
   "cell_type": "code",
   "execution_count": null,
   "id": "baf46e0c-4be5-4964-9079-78af0bc5884d",
   "metadata": {
    "ExecuteTime": {
     "end_time": "2025-06-11T05:45:04.761527Z",
     "start_time": "2025-06-11T05:45:00.614443Z"
    }
   },
   "outputs": [],
   "source": [
    "import pandas as pd\n",
    "import numpy as np\n",
    "from IPython.display import clear_output\n",
    "import matplotlib.pyplot as plt\n",
    "import seaborn as sns\n",
    "pd.set_option('display.max_columns', None)\n",
    "from sklearn.model_selection import train_test_split\n",
    "\n",
    "import psutil\n",
    "import os\n",
    "os.environ['TF_CPP_MIN_LOG_LEVEL'] = '3' ### this hides some of the annoying tflow errors\n",
    "#### this depends on the hardware\n",
    "from pathlib import Path ####Required for save checks\n",
    "import prince ####Required for MCA functions\n",
    "skip = True\n",
    "import j_process ####Required to load custom modeling functions\n",
    "import j_clustertuner ####Required for best K functions"
   ]
  },
  {
   "cell_type": "code",
   "execution_count": null,
   "id": "63cb4232-682f-4170-a7e4-59a10264d75b",
   "metadata": {
    "ExecuteTime": {
     "end_time": "2025-06-10T01:27:41.839642Z",
     "start_time": "2025-06-10T01:27:41.473980Z"
    }
   },
   "outputs": [],
   "source": [
    "df = pd.read_parquet(\"filtered.parquet\")"
   ]
  },
  {
   "cell_type": "code",
   "execution_count": null,
   "id": "7d86b607-f8e9-4b7e-a463-abf94b8f64f8",
   "metadata": {
    "ExecuteTime": {
     "end_time": "2025-06-10T01:27:41.864108Z",
     "start_time": "2025-06-10T01:27:41.851212Z"
    }
   },
   "outputs": [],
   "source": [
    "df.head()"
   ]
  },
  {
   "cell_type": "code",
   "execution_count": null,
   "id": "ce7239e2-fbab-47b0-89c2-3edd26b3a993",
   "metadata": {
    "ExecuteTime": {
     "end_time": "2025-06-10T01:27:41.905613Z",
     "start_time": "2025-06-10T01:27:41.901693Z"
    }
   },
   "outputs": [],
   "source": [
    "#Just a function to help me visualize each feature\n",
    "\n",
    "def i_graph(colname):\n",
    "    ig_counts = df[colname].value_counts(dropna=False)\n",
    "    \n",
    "    print(\"Value counts for\", colname)\n",
    "    print(ig_counts)\n",
    "    \n"
   ]
  },
  {
   "cell_type": "code",
   "execution_count": null,
   "id": "f256c056-d1aa-4c3f-b5c2-f95a26a9dde7",
   "metadata": {
    "ExecuteTime": {
     "end_time": "2025-06-10T01:27:41.983054Z",
     "start_time": "2025-06-10T01:27:41.979856Z"
    }
   },
   "outputs": [],
   "source": [
    "def repval(colname, stringstorepl):\n",
    "    df[colname] = df[colname].replace(stringstorepl,np.nan)\n",
    "    rg_counts = df[colname].value_counts(dropna=False)\n",
    "\n",
    "\n",
    "\n"
   ]
  },
  {
   "cell_type": "code",
   "execution_count": null,
   "id": "26aba1efc701ffac",
   "metadata": {},
   "outputs": [],
   "source": [
    "def basic_plot(colname):\n",
    "    rg_counts = df[colname].value_counts(dropna=False)\n",
    "    rg_ax = rg_counts.plot(kind='bar')\n",
    "    plt.title('Counts per Category')\n",
    "    plt.xlabel('Category')\n",
    "    plt.ylabel('Count')\n",
    "\n",
    "\n",
    "    for i, v in enumerate(rg_counts):\n",
    "        rg_ax.text(i, v + max(rg_counts) * 0.01, str(v), ha='center', va='bottom')\n",
    "\n",
    "    plt.tight_layout()\n",
    "    rg_title = colname\n",
    "    rg_filename = rg_title.replace(\" \", \"_\").replace(\"/\", \"-\") + \".jpg\"\n",
    "    plt.savefig(rg_filename, format='jpg', dpi=300)\n",
    "    plt.show()\n"
   ]
  },
  {
   "cell_type": "code",
   "execution_count": null,
   "id": "2daa745a-fd2c-4405-b506-bae1509f713c",
   "metadata": {
    "jupyter": {
     "is_executing": true
    }
   },
   "outputs": [],
   "source": [
    "default = [\"Don't know/Not sure\",\"Refused\",\"Missing\",\"Don't know / Not sure\",\"Don't know/Not Sure\"]\n",
    "repval(\"CVDINFR4\", [\"Don't know/Not sure\", \"Refused\", \"Missing\"])\n",
    "repval(\"CVDCRHD4\", [\"Don't know/Not sure\", \"Refused\", \"Missing\"])\n",
    "repval(\"CVDSTRK3\", default)\n",
    "df[\"ASTHMA3\"] = df[\"ASTHMA3\"].replace([\"No -  Go to Section 07.06 CHCSCNC1\"], \"No\")\n",
    "repval(\"ASTHMA3\",\n",
    "       [\"Don't know/Not Sure -  Go to Section 07.06 CHCSCNC1\", \"Refused -  Go to Section 07.06 CHCSCNC1\", \"Missing\"])\n",
    "repval(\"CHCSCNC1\", default)\n",
    "repval(\"CHCOCNC1\", default)\n",
    "repval(\"CHCCOPD3\", default)\n",
    "repval(\"CHCKDNY2\", default)\n",
    "repval(\"HAVARTH4\", default)\n",
    "df[\"DIABETE4\"]=df[\"DIABETE4\"].replace([\"No -  Go to Section 08.01 AGE\"],\"No\")\n",
    "repval(\"DIABETE4\", [\"No, pre-diabetes or borderline diabetes -  Go to Section 08.01 AGE\", \"Yes, but female told only during pregnancy -  Go to Section 08.01 AGE\", \"Don't know/Not Sure -  Go to Section 08.01 AGE\", \"Refused -  Go to Section 08.01 AGE\"])\n",
    "df[\"EDUCA\"]=df[\"EDUCA\"].replace([\"College 4 years or more (College graduate)\"],\"Bachelors degree or Higher\")\n",
    "df[\"EDUCA\"]=df[\"EDUCA\"].replace([\"College 1 year to 3 years (Some college or technical school)\"],\"Some College or Associates\")\n",
    "df[\"EDUCA\"]=df[\"EDUCA\"].replace([\"Grade 12 or GED (High school graduate)\"],\"High School Graduate\")\n",
    "df[\"EDUCA\"]=df[\"EDUCA\"].replace([\"Grades 9 through 11 (Some high school)\"],\"Some High School\")\n",
    "df[\"EDUCA\"]=df[\"EDUCA\"].replace([\"Grades 1 through 8 (Elementary)\"],\"Elementary Only\")\n",
    "df[\"EDUCA\"]=df[\"EDUCA\"].replace([\"Never attended school or only kindergarten\"],\"None or Kindergarten Only\")\n",
    "repval(\"EDUCA\", default)\n",
    "repval(\"DEAF\", default)\n",
    "repval(\"BLIND\", default)\n",
    "repval(\"DECIDE\", default)\n",
    "repval(\"DIFFWALK\", default)\n",
    "repval(\"DIFFDRES\", default)\n",
    "repval(\"DIFFALON\", default)\n",
    "df[\"SMOKE100\"]=df[\"SMOKE100\"].replace([\"No -  Go to Section 12.03 USENOW3\"],\"No\")\n",
    "df[\"SMOKE100\"]=df[\"SMOKE100\"].replace([\"Don't know/Not Sure -  Go to Section 12.03 USENOW3\"],\"Don't know/Not Sure\")\n",
    "df[\"SMOKE100\"]=df[\"SMOKE100\"].replace([\"Refused -  Go to Section 12.03 USENOW3\"],\"Refused\")\n",
    "repval(\"SMOKE100\", default)\n",
    "df[\"ECIGNOW2\"]=df[\"ECIGNOW2\"].replace([\"Never used e-cigarettes in your entire life\"],\"Never\")\n",
    "df[\"ECIGNOW2\"]=df[\"ECIGNOW2\"].replace([\"Not at all (right now)\"],\"Not Currently\")\n",
    "df[\"ECIGNOW2\"]=df[\"ECIGNOW2\"].replace([\"Use them some days\"],\"Some Days\")\n",
    "df[\"ECIGNOW2\"]=df[\"ECIGNOW2\"].replace([\"Use them every day\"],\"Every Day\")\n",
    "df[\"FLUSHOT7\"]=df[\"FLUSHOT7\"].replace([\"No -  Go to Section 13.03 PNEUVAC4\"],\"No\")\n",
    "df[\"FLUSHOT7\"]=df[\"FLUSHOT7\"].replace([\"Don't know/Not Sure -  Go to Section 13.03 PNEUVAC4\"],\"Don't know/Not sure\")\n",
    "df[\"FLUSHOT7\"]=df[\"FLUSHOT7\"].replace([\"Refused -  Go to Section 13.03 PNEUVAC4\"],\"Refused\")\n",
    "repval(\"ECIGNOW2\", default)\n",
    "repval(\"FLUSHOT7\", default)\n",
    "repval(\"PNEUVAC4\", default)\n",
    "df[\"SEATBELT\"]=df[\"SEATBELT\"].replace([\"Never drive or ride in a car -  Go to Section 16.1 COVIDPO1\"],\"Refused\")\n",
    "\n",
    "repval(\"SEATBELT\", default)\n",
    "df[\"COVIDPO1\"]=df[\"COVIDPO1\"].replace([\"No -  Go to Modules or Closing Statement\"],\"No\")\n",
    "df[\"COVIDPO1\"]=df[\"COVIDPO1\"].replace([\"Refused -  Go to Modules or Closing Statement\"],\"Refused\")\n",
    "df[\"COVIDPO1\"]=df[\"COVIDPO1\"].replace([\"Don't know/Not Sure -  Go to Modules or Closing Statement\"],\"Don't know/Not sure\")\n",
    "\n",
    "repval(\"COVIDPO1\", default)\n",
    "repval(\"GENHLTH\", default)\n",
    "df[\"EXERANY2\"]=df[\"EXERANY2\"].replace([\"No -  Go to Section 04.08 STRENGTH\"],\"No\")\n",
    "df[\"EXERANY2\"]=df[\"EXERANY2\"].replace([\"Don't know/Not Sure -  Go to Section 04.08 STRENGTH\"],\"Don't know/Not sure\")\n",
    "df[\"EXERANY2\"]=df[\"EXERANY2\"].replace([\"Refused -  Go to Section 04.08 STRENGTH\"],\"Refused\")\n",
    "\n",
    "repval(\"EXERANY2\", default)\n",
    "repval(\"TOLDHI3\", default)"
   ]
  },
  {
   "cell_type": "code",
   "execution_count": null,
   "id": "03443526-cff4-4043-8b79-a1aee1de0301",
   "metadata": {
    "ExecuteTime": {
     "end_time": "2025-06-10T01:27:42.309786Z",
     "start_time": "2025-06-10T01:27:42.303541Z"
    }
   },
   "outputs": [],
   "source": [
    "j_process.resp_tally2(df)"
   ]
  },
  {
   "cell_type": "code",
   "execution_count": null,
   "id": "f9642b0e-7b3f-45a2-8853-5b03046d09f9",
   "metadata": {
    "ExecuteTime": {
     "end_time": "2025-06-10T01:27:49.867802Z",
     "start_time": "2025-06-10T01:27:49.174244Z"
    }
   },
   "outputs": [],
   "source": [
    "print(df.isna().sum())\n",
    "print(df.shape)\n",
    "df.dropna(inplace=True)\n",
    "print(df.shape)\n"
   ]
  },
  {
   "cell_type": "code",
   "execution_count": null,
   "id": "571b3a8d-ae58-4637-b7d9-5a306b5c0220",
   "metadata": {
    "ExecuteTime": {
     "end_time": "2025-06-10T01:27:50.055301Z",
     "start_time": "2025-06-10T01:27:49.899303Z"
    }
   },
   "outputs": [],
   "source": [
    "columns_to_check = ['CVDINFR4', 'CVDCRHD4', 'CVDSTRK3','ASTHMA3','CHCSCNC1','CHCOCNC1','CHCCOPD3','CHCKDNY2','HAVARTH4','DIABETE4']\n",
    "chronic_col = columns_to_check\n",
    "df['ALL_CHRONIC'] = df[columns_to_check].eq('Yes').any(axis=1).map({True: 'Yes', False: 'No'})\n"
   ]
  },
  {
   "cell_type": "code",
   "execution_count": null,
   "id": "3f5e4845-4740-49ec-b9df-414b3a1d1c37",
   "metadata": {
    "ExecuteTime": {
     "end_time": "2025-06-10T01:27:50.210270Z",
     "start_time": "2025-06-10T01:27:50.086711Z"
    }
   },
   "outputs": [],
   "source": [
    "df['ALL_CHRONIC'].value_counts(dropna=False)\n",
    "df['ALL_CHRONIC'].value_counts().plot(kind='bar')\n",
    "plt.title('Any Chronic Condition')\n",
    "plt.xlabel('Response')\n",
    "plt.ylabel('Count')\n",
    "title = plt.gca().get_title()\n",
    "filename = title.replace(\" \", \"_\").replace(\"/\", \"-\") + \".jpg\"\n",
    "plt.savefig(filename, format='jpg', dpi=300)\n",
    "plt.show()\n",
    "df['ALL_CHRONIC'].value_counts(normalize=True, dropna=False)"
   ]
  },
  {
   "cell_type": "code",
   "execution_count": null,
   "id": "6998658b-fb48-4cc0-9ec4-1cc89ab81c64",
   "metadata": {},
   "outputs": [],
   "source": [
    "columns_to_check = ['CVDINFR4', 'CVDCRHD4', 'CVDSTRK3','ASTHMA3','CHCSCNC1','CHCOCNC1','CHCCOPD3','CHCKDNY2','DIABETE4']\n",
    "\n",
    "df['ALL_CHRONIC2'] = df[columns_to_check].eq('Yes').any(axis=1).map({True: 'Yes', False: 'No'})"
   ]
  },
  {
   "cell_type": "code",
   "execution_count": null,
   "id": "64a3d20a-244e-4612-a8ae-d9b1a04a0266",
   "metadata": {
    "ExecuteTime": {
     "end_time": "2025-06-10T01:27:50.297680Z",
     "start_time": "2025-06-10T01:27:50.243702Z"
    }
   },
   "outputs": [],
   "source": [
    "columns_to_check = ['CVDINFR4', 'CVDCRHD4', 'CVDSTRK3']\n",
    "\n",
    "df['ALL_CARDIAC'] = df[columns_to_check].eq('Yes').any(axis=1).map({True: 'Yes', False: 'No'})"
   ]
  },
  {
   "cell_type": "code",
   "execution_count": null,
   "id": "da4b4a1c-7721-4d9b-9349-c835619d99b4",
   "metadata": {
    "ExecuteTime": {
     "end_time": "2025-06-10T01:27:50.445403Z",
     "start_time": "2025-06-10T01:27:50.328573Z"
    }
   },
   "outputs": [],
   "source": [
    "df['ALL_CARDIAC'].value_counts(dropna=False)\n",
    "df['ALL_CARDIAC'].value_counts().plot(kind='bar')\n",
    "plt.title('Any Cardiac Condition')\n",
    "plt.xlabel('Response')\n",
    "plt.ylabel('Count')\n",
    "title = plt.gca().get_title()\n",
    "filename = title.replace(\" \", \"_\").replace(\"/\", \"-\") + \".jpg\"\n",
    "plt.savefig(filename, format='jpg', dpi=300)\n",
    "plt.show()\n",
    "df['ALL_CARDIAC'].value_counts(normalize=True, dropna=False)"
   ]
  },
  {
   "cell_type": "code",
   "execution_count": null,
   "id": "1ee57840-a255-459c-a40b-5fab25b2c67e",
   "metadata": {
    "ExecuteTime": {
     "end_time": "2025-06-10T01:27:50.520520Z",
     "start_time": "2025-06-10T01:27:50.483560Z"
    }
   },
   "outputs": [],
   "source": [
    "columns_to_check = ['CHCSCNC1','CHCOCNC1']\n",
    "\n",
    "df['ALL_CANCER'] = df[columns_to_check].eq('Yes').any(axis=1).map({True: 'Yes', False: 'No'})"
   ]
  },
  {
   "cell_type": "code",
   "execution_count": null,
   "id": "6ddc9553-f0bc-4fce-9a76-fc73bd3ed5f1",
   "metadata": {
    "ExecuteTime": {
     "end_time": "2025-06-10T01:27:50.672601Z",
     "start_time": "2025-06-10T01:27:50.551262Z"
    }
   },
   "outputs": [],
   "source": [
    "df['ALL_CANCER'].value_counts(dropna=False)\n",
    "df['ALL_CANCER'].value_counts().plot(kind='bar')\n",
    "plt.title('Any Cancer Response')\n",
    "plt.xlabel('Response')\n",
    "plt.ylabel('Count')\n",
    "title = plt.gca().get_title()\n",
    "filename = title.replace(\" \", \"_\").replace(\"/\", \"-\") + \".jpg\"\n",
    "plt.savefig(filename, format='jpg', dpi=300)\n",
    "plt.show()\n",
    "df['ALL_CANCER'].value_counts(normalize=True, dropna=False)"
   ]
  },
  {
   "cell_type": "code",
   "execution_count": null,
   "id": "c05c5253-dd48-4978-bd31-9490794b45d4",
   "metadata": {
    "ExecuteTime": {
     "end_time": "2025-06-10T01:27:50.750310Z",
     "start_time": "2025-06-10T01:27:50.705359Z"
    }
   },
   "outputs": [],
   "source": [
    "columns_to_check = ['ASTHMA3','CHCCOPD3']\n",
    "\n",
    "df['ALL_PUL'] = df[columns_to_check].eq('Yes').any(axis=1).map({True: 'Yes', False: 'No'})"
   ]
  },
  {
   "cell_type": "code",
   "execution_count": null,
   "id": "7d013c55-2f19-4760-a842-a52108bc74fc",
   "metadata": {
    "ExecuteTime": {
     "end_time": "2025-06-10T01:27:50.911687Z",
     "start_time": "2025-06-10T01:27:50.789196Z"
    }
   },
   "outputs": [],
   "source": [
    "df['ALL_PUL'].value_counts(dropna=False)\n",
    "df['ALL_PUL'].value_counts().plot(kind='bar')\n",
    "plt.title('Any Pulmonary Response')\n",
    "plt.xlabel('Response')\n",
    "plt.ylabel('Count')\n",
    "title = plt.gca().get_title()\n",
    "filename = title.replace(\" \", \"_\").replace(\"/\", \"-\") + \".jpg\"\n",
    "plt.savefig(filename, format='jpg', dpi=300)\n",
    "plt.show()\n",
    "df['ALL_PUL'].value_counts(normalize=True, dropna=False)"
   ]
  },
  {
   "cell_type": "code",
   "execution_count": null,
   "id": "7f5cf39b-ecc5-4056-b12c-c7b3235e6991",
   "metadata": {
    "ExecuteTime": {
     "end_time": "2025-06-10T01:27:51.273464Z",
     "start_time": "2025-06-10T01:27:50.949107Z"
    }
   },
   "outputs": [],
   "source": [
    "\n",
    "\n",
    "columns_to_check = [\n",
    "    'CVDINFR4', 'CVDCRHD4', 'CVDSTRK3',\n",
    "    'ASTHMA3', 'CHCSCNC1', 'CHCOCNC1',\n",
    "    'CHCCOPD3', 'CHCKDNY2', 'HAVARTH4', 'DIABETE4'\n",
    "]\n",
    "yes_rates = {\n",
    "    col: (df[col] == \"Yes\").mean() * 100  \n",
    "    for col in columns_to_check\n",
    "}\n",
    "\n",
    "\n",
    "yes_df = pd.Series(yes_rates).sort_values(ascending=False)\n",
    "\n",
    "ax = yes_df.plot(kind='bar')\n",
    "plt.title('Percentage of Yes Responses by Condition')\n",
    "plt.ylabel('Percentage (%)')\n",
    "plt.xlabel('Condition')\n",
    "plt.xticks(rotation=45, ha='right')\n",
    "plt.tight_layout()\n",
    "title = plt.gca().get_title()\n",
    "filename = title.replace(\" \", \"_\").replace(\"/\", \"-\") + \".jpg\"\n",
    "plt.savefig(filename, format='jpg', dpi=300)\n",
    "plt.show()\n"
   ]
  },
  {
   "cell_type": "code",
   "execution_count": null,
   "id": "02802ef2-c158-4849-a82c-4a01d989552a",
   "metadata": {
    "ExecuteTime": {
     "end_time": "2025-06-10T01:27:51.309177Z",
     "start_time": "2025-06-10T01:27:51.305069Z"
    }
   },
   "outputs": [],
   "source": [
    "column_list = df.columns.tolist()\n",
    "print(column_list)\n",
    "feature_list = [col for col in column_list if col not in chronic_col]\n",
    "deriv_col = ['ALL_CHRONIC','ALL_CARDIAC','ALL_CANCER','ALL_PUL','ALL_CHRONIC2']"
   ]
  },
  {
   "cell_type": "code",
   "execution_count": null,
   "id": "fea57710-8838-461d-8476-295873cbbd45",
   "metadata": {
    "ExecuteTime": {
     "end_time": "2025-06-10T01:27:51.331019Z",
     "start_time": "2025-06-10T01:27:51.328656Z"
    }
   },
   "outputs": [],
   "source": [
    "feature_list = [col for col in feature_list if col not in deriv_col]\n",
    "print(feature_list)"
   ]
  },
  {
   "cell_type": "code",
   "execution_count": null,
   "id": "383cef46-6c8d-4fca-bf50-fc7cf11109ce",
   "metadata": {
    "ExecuteTime": {
     "end_time": "2025-06-10T01:27:53.278419Z",
     "start_time": "2025-06-10T01:27:51.340631Z"
    },
    "editable": true,
    "slideshow": {
     "slide_type": ""
    },
    "tags": []
   },
   "outputs": [],
   "source": [
    "for col in feature_list:\n",
    "    counts = df[col].value_counts(dropna=False)\n",
    "\n",
    "    # Print counts for reference\n",
    "    print(f\"\\nValue counts for {col}:\\n{counts}\")\n",
    "\n",
    "    # Plot\n",
    "    ax = counts.plot(kind='bar')\n",
    "    plt.title(f'Distribution of {col}')\n",
    "    plt.xlabel('Response')\n",
    "    plt.ylabel('Count')\n",
    "    title = plt.gca().get_title()\n",
    "    filename = title.replace(\" \", \"_\").replace(\"/\", \"-\") + \".jpg\"\n",
    "    plt.savefig(filename, format='jpg', dpi=300)\n",
    "\n",
    "    #plt.tight_layout()\n",
    "    plt.show()"
   ]
  },
  {
   "cell_type": "code",
   "execution_count": null,
   "id": "7729234a-2fd2-49a4-8452-0e2968846275",
   "metadata": {
    "ExecuteTime": {
     "end_time": "2025-06-10T01:27:53.292225Z",
     "start_time": "2025-06-10T01:27:53.289360Z"
    }
   },
   "outputs": [],
   "source": [
    "bool_feat = ['DEAF', 'BLIND', 'DECIDE', 'DIFFWALK', 'DIFFDRES',\n",
    "              'DIFFALON', 'SMOKE100', 'FLUSHOT7', 'PNEUVAC4',\n",
    "               'COVIDPO1', 'EXERANY2', 'TOLDHI3']\n",
    "cat_feat=['GENHLTH', 'SEATBELT','ECIGNOW2','EDUCA']"
   ]
  },
  {
   "cell_type": "code",
   "execution_count": null,
   "id": "c24eb7e9-9440-4e02-a731-e17cad3f0402",
   "metadata": {
    "ExecuteTime": {
     "end_time": "2025-06-10T01:27:54.076542Z",
     "start_time": "2025-06-10T01:27:53.302922Z"
    }
   },
   "outputs": [],
   "source": [
    "lifestyle_factors = bool_feat  \n",
    "heat_data = {}\n",
    "\n",
    "for col in lifestyle_factors:\n",
    "    yes_rate = df[df[col] == 'Yes']['ALL_CHRONIC'].value_counts(normalize=True)\n",
    "    heat_data[col] = yes_rate\n",
    "\n",
    "heat_df = pd.DataFrame(heat_data).T.fillna(0)\n",
    "\n",
    "sns.heatmap(heat_df, annot=True, cmap='Blues')\n",
    "plt.title(\"Chronic Condition Rates Among Respondents With Each Reported Risk Factor\")\n",
    "plt.ylabel(\"Risk Factor\")\n",
    "plt.xlabel(\"Chronic Condition\")\n",
    "plt.tight_layout()\n",
    "plt.savefig(\"chronic_condition_heatmap.jpg\", format='jpg', dpi=300, bbox_inches='tight')\n",
    "\n",
    "plt.show()\n"
   ]
  },
  {
   "cell_type": "code",
   "execution_count": null,
   "id": "490c3b00-48ee-44bd-a54d-327ca4fd3b44",
   "metadata": {
    "ExecuteTime": {
     "end_time": "2025-06-10T01:27:55.269238Z",
     "start_time": "2025-06-10T01:27:54.088666Z"
    }
   },
   "outputs": [],
   "source": [
    "heat_data={}\n",
    "for col in lifestyle_factors:\n",
    "    yes_rate = df[df[col] == 'No']['ALL_CHRONIC'].value_counts(normalize=True)\n",
    "    heat_data[col] = yes_rate\n",
    "\n",
    "heat_df = pd.DataFrame(heat_data).T.fillna(0)\n",
    "heat_df = heat_df[['Yes', 'No']]\n",
    "sns.heatmap(heat_df, annot=True, cmap='Blues')\n",
    "plt.title(\"Chronic Condition Rates Among Respondents Without Each Reported Risk Factor\")\n",
    "plt.ylabel(\"Risk Factor\")\n",
    "plt.xlabel(\"Chronic Condition\")\n",
    "plt.tight_layout()\n",
    "plt.savefig(\"neg_chronic_condition_heatmap.jpg\", format='jpg', dpi=300,bbox_inches='tight')\n",
    "plt.show()"
   ]
  },
  {
   "cell_type": "code",
   "execution_count": null,
   "id": "76f8b14b-05a3-4bb5-a090-2e3d4cf8fb1b",
   "metadata": {
    "ExecuteTime": {
     "end_time": "2025-06-10T01:27:55.527306Z",
     "start_time": "2025-06-10T01:27:55.281748Z"
    }
   },
   "outputs": [],
   "source": [
    "#######USED IN EDA#####\n",
    "\n",
    "edu_chronic = df.groupby('EDUCA')['ALL_CHRONIC'].value_counts(normalize=True).unstack().fillna(0)\n",
    "ordered_levels = [\"Bachelors degree or Higher\",\"Some College or Associates\", \"High School Graduate\", \"Elementary Only\", \"None or Kindergarten Only\"]\n",
    "edu_chronic = edu_chronic.loc[ordered_levels]\n",
    "\n",
    "edu_chronic.plot(kind='bar', stacked=True)\n",
    "plt.title('Chronic Condition Distribution by Education Level')\n",
    "plt.xlabel('Education Level')\n",
    "plt.ylabel('Proportion')\n",
    "plt.legend(title='Has Chronic Condition')\n",
    "plt.xticks(rotation=45, ha='right')\n",
    "plt.tight_layout()\n",
    "plt.savefig(\"educationvschronic.jpg\", format='jpg', dpi=300,bbox_inches='tight')\n",
    "plt.show()"
   ]
  },
  {
   "cell_type": "code",
   "execution_count": null,
   "id": "046954a2-2584-43f8-9147-e8dcb7ca5571",
   "metadata": {
    "ExecuteTime": {
     "end_time": "2025-06-10T01:27:57.534387Z",
     "start_time": "2025-06-10T01:27:55.530318Z"
    }
   },
   "outputs": [],
   "source": [
    "##### USED IN EDA#####\n",
    "\n",
    "features = ['ECIGNOW2', 'SEATBELT', 'GENHLTH']\n",
    "\n",
    "# Friendly labels for x-axis\n",
    "x_labels = {\n",
    "    'ECIGNOW2': 'E-Cigarette Use',\n",
    "    'SEATBELT': 'Seatbelt Use Frequency',\n",
    "    'GENHLTH': 'General Health'\n",
    "}\n",
    "\n",
    "#Fix the order of the labels\n",
    "category_orders = {\n",
    "    'ECIGNOW2': ['Every Day', 'Some Days', 'Not Currently', 'Never'],  \n",
    "    'SEATBELT': ['Always', 'Nearly always', 'Sometimes', 'Seldom', 'Never'],\n",
    "    'GENHLTH': ['Excellent', 'Very good', 'Good', 'Fair', 'Poor']\n",
    "}\n",
    "\n",
    "for col in features:\n",
    "\n",
    "    ctab = pd.crosstab(df[col], df['ALL_CHRONIC'], normalize='index').fillna(0)\n",
    "    if col in category_orders:\n",
    "        ctab = ctab.reindex(category_orders[col])\n",
    "    ax = ctab.plot(kind='bar', stacked=True, figsize=(8, 4))\n",
    "    plt.title(f'Chronic Condition Distribution by {x_labels[col]}')\n",
    "    plt.xlabel(x_labels[col])\n",
    "    plt.ylabel('Proportion')\n",
    "    plt.legend(title='Has Chronic Condition')\n",
    "    plt.xticks(rotation=45, ha='right')\n",
    "    plt.tight_layout()\n",
    "\n",
    "    filename = f\"chronic_vs_{col}.jpg\".replace(\" \", \"_\").lower()\n",
    "    plt.savefig(filename, format='jpg', dpi=300, bbox_inches='tight')\n",
    "    plt.show()\n"
   ]
  },
  {
   "cell_type": "code",
   "execution_count": null,
   "id": "54cab0e7-09c5-425e-af50-f759e01ba0f7",
   "metadata": {
    "ExecuteTime": {
     "end_time": "2025-06-10T01:28:04.531969Z",
     "start_time": "2025-06-10T01:27:57.616303Z"
    }
   },
   "outputs": [],
   "source": [
    "####Check to see if the filtered data was saved\n",
    "\n",
    "from pathlib import Path\n",
    "\n",
    "file_path = Path(\"rq3_filtered.parquet\")\n",
    "if file_path.exists():\n",
    "    print(\"File exists.\")\n",
    "else:\n",
    "    print(\"File not found.\")\n",
    "    df.to_parquet(\n",
    "        \"rq3_filtered.parquet\",\n",
    "        engine=\"pyarrow\",\n",
    "        compression=\"BROTLI\",\n",
    "        compression_level=11,\n",
    "        index=False\n",
    "    )"
   ]
  },
  {
   "cell_type": "code",
   "execution_count": null,
   "id": "1c968290-fec3-4e68-9d62-3dfef7ca878b",
   "metadata": {
    "ExecuteTime": {
     "end_time": "2025-06-10T01:28:05.717898Z",
     "start_time": "2025-06-10T01:28:04.578252Z"
    }
   },
   "outputs": [],
   "source": [
    "tpath = Path(\"df_train.parquet\")\n",
    "vpath = Path(\"df_val.parquet\")\n",
    "spath = Path(\"df_test.parquet\")\n",
    "if tpath.exists() and vpath.exists() and spath.exists():\n",
    "    print(\"Split data found, loading files\")\n",
    "    df_train = pd.read_parquet(tpath)\n",
    "    df_val = pd.read_parquet(vpath)\n",
    "    df_test = pd.read_parquet(spath)\n",
    "else:\n",
    "    df_clustered = df.copy()\n",
    "    df_testval, df_train = train_test_split(\n",
    "        df, test_size=0.70, random_state=42, stratify=df[\"ALL_CHRONIC2\"]\n",
    "    )\n",
    "\n",
    "\n",
    "    df_test, df_val = train_test_split(\n",
    "        df_testval, test_size=0.50, random_state=42, stratify=df_testval[\"ALL_CHRONIC2\"]\n",
    "    )\n",
    "    j_process.p_save(df_train,\"df_train.parquet\")\n",
    "    j_process.p_save(df_val,\"df_val.parquet\")\n",
    "    j_process.p_save(df_test,\"df_test.parquet\")\n",
    "\n",
    "print(f\"Train shape: {df_train.shape}\")\n",
    "print(f\"Validation shape: {df_val.shape}\")\n",
    "print(f\"Test shape: {df_test.shape}\")\n"
   ]
  },
  {
   "cell_type": "markdown",
   "id": "158b82ff-e32b-4987-b22c-bb312f9a6a7b",
   "metadata": {},
   "source": [
    "Testing for optimal Kmode Clusters"
   ]
  },
  {
   "cell_type": "code",
   "execution_count": null,
   "id": "618f0e5e-212d-499f-9fde-df8131fdb0d3",
   "metadata": {
    "ExecuteTime": {
     "end_time": "2025-06-10T01:39:21.043705Z",
     "start_time": "2025-06-10T01:37:17.283661Z"
    }
   },
   "outputs": [],
   "source": [
    "#### Check to see if KMODE clustering cost results are available\n",
    "#### Will take a long time to rerun, download \"rq3_all_kresults.parquet\" to skip\n",
    "\n",
    "file_path = Path(\"rq3_all_kresults.parquet\")\n",
    "if file_path.exists():\n",
    "    print(\"File exists.\")\n",
    "    all_kresults = pd.read_parquet(file_path)\n",
    "    print(all_kresults.head())\n",
    "    \n",
    "else:\n",
    "    print(\"Save not found, running tuner...May take a while...\")\n",
    "    all_kresults = j_clustertuner.kmode_tune(df_val,feature_list,n_cluster=256,n_trials=10,cores=15)\n",
    "    j_process.save_if_changed(all_kresults,\"rq3_all_kresults.parquet\")\n",
    "\n",
    "\n"
   ]
  },
  {
   "cell_type": "code",
   "execution_count": null,
   "id": "45240679-fd26-427e-b5a0-b493f4a1cbd3",
   "metadata": {},
   "outputs": [],
   "source": [
    "j_clustertuner.plot_kmode_elbow(all_kresults)"
   ]
  },
  {
   "cell_type": "markdown",
   "id": "b2ee2e07-0b2b-420d-b814-a7abbf391d82",
   "metadata": {},
   "source": [
    "Test for Optimal TFlow number of clusters"
   ]
  },
  {
   "cell_type": "code",
   "execution_count": null,
   "id": "4e1185fa-9da5-4c5d-8fb3-4933b8f297c1",
   "metadata": {},
   "outputs": [],
   "source": [
    "#####Check to see if silhouette score data is available. \n",
    "#####Will take a long time ot rerun, make sure \"rq3_all_tresults.parquet\" is present\n",
    "\n",
    "file_path = Path(\"rq3_all_tresults.parquet\")\n",
    "if file_path.exists():\n",
    "    print(\"File exists.Loading file.\")\n",
    "    all_tresults = pd.read_parquet(file_path)\n",
    "    print(all_tresults.head())\n",
    "\n",
    "else:\n",
    "    print(\"Save not found, running tuner...May take a while...\")\n",
    "    \n",
    "\n",
    "    all_tresults = j_clustertuner.tflow_tune(df_test,df_val,feature_list)\n",
    "    j_process.save_if_changed(all_tresults,\"rq3_all_tresults.parquet\")"
   ]
  },
  {
   "cell_type": "code",
   "execution_count": null,
   "id": "6b6cdee0-9d7b-4c8b-a4f9-ad0bee63aaac",
   "metadata": {},
   "outputs": [],
   "source": [
    "\n",
    "j_clustertuner.analyze_silhouette_scores(all_tresults)"
   ]
  },
  {
   "cell_type": "code",
   "execution_count": null,
   "id": "d9e48506-09be-4b28-8656-a7ed847d7539",
   "metadata": {
    "scrolled": true
   },
   "outputs": [],
   "source": [
    "\n",
    "\n",
    "# Ensure both are lists, then combine\n",
    "bool_feat = list(bool_feat)\n",
    "cat_feat = list(cat_feat)\n",
    "combined_feat = bool_feat + cat_feat\n",
    "\n",
    "# Drop the combined features from df\n",
    "mca_set = df_train.drop(columns=combined_feat, inplace=False)\n",
    "\n",
    "\n",
    "\n",
    "mca = prince.MCA( n_components=27,random_state=42)\n",
    "mca = mca.fit(mca_set)\n",
    "X_reduced = mca.transform(mca_set)\n",
    "X_reduced.shape\n",
    "#explained = mca.explained_inertia_\n",
    "eigen = mca.eigenvalues_\n",
    "total = mca.total_inertia_\n",
    "explained = eigen / total\n",
    "#print(explained)\n",
    "\n",
    "\n",
    "cumulative = np.cumsum(explained)\n",
    "\n",
    "plt.plot(range(1, len(cumulative)+1), cumulative, marker='o')\n",
    "plt.axhline(y=0.8, color='r', linestyle='--', label='80% threshold')\n",
    "plt.title(\"Cumulative Explained Inertia (MCA)\")\n",
    "plt.xlabel(\"Number of Components\")\n",
    "plt.ylabel(\"Cumulative Inertia\")\n",
    "plt.grid(True)\n",
    "plt.legend()\n",
    "plt.savefig(\"mca_inertia.jpg\", format='jpg', dpi=300)\n",
    "plt.show()\n",
    "\n",
    "# Find minimum number of components to reach 80%\n",
    "\n",
    "k = np.argmax(cumulative >= 0.80) + 1\n",
    "print(f\"Components to reach 80% inertia: {k}\")\n",
    "k=np.argmax(cumulative>=.99) +1\n",
    "print(f\"Max intertia at: {k}\")\n"
   ]
  },
  {
   "cell_type": "code",
   "execution_count": null,
   "id": "2d882f37-533e-488c-98fe-719b95a6291c",
   "metadata": {},
   "outputs": [],
   "source": [
    "plt.plot(range(1, len(explained)+1), explained, marker='o')\n",
    "plt.title(\"Scree Plot (Explained Inertia per Component)\")\n",
    "plt.xlabel(\"Component\")\n",
    "plt.ylabel(\"Explained Inertia\")\n",
    "plt.grid(True)\n",
    "plt.savefig(\"screeplot_mca.jpg\", format='jpg', dpi=300)\n",
    "plt.show()"
   ]
  },
  {
   "cell_type": "code",
   "execution_count": null,
   "id": "77abb654-07fc-4677-8ba9-f117d28ab913",
   "metadata": {},
   "outputs": [],
   "source": [
    "mca = prince.MCA(n_components=2, random_state=42)\n",
    "mca = mca.fit(df_train)\n",
    "\n",
    "# For individuals\n",
    "mca_row_coords = mca.row_coordinates(df_train)\n",
    "plt.scatter(mca_row_coords[0], mca_row_coords[1], alpha=0.5)\n",
    "plt.title(\"Individuals Factorial Plane (Dim 1 vs Dim 2)\")\n",
    "plt.xlabel(\"Dim 1\")\n",
    "plt.ylabel(\"Dim 2\")\n",
    "plt.grid(True)\n",
    "plt.show()\n",
    "\n",
    "# For variables\n",
    "mca_col_coords = mca.column_coordinates(df_train)\n",
    "plt.scatter(mca_col_coords[0], mca_col_coords[1])\n",
    "plt.title(\"Variable Factorial Plane (Dim 1 vs Dim 2)\")\n",
    "plt.xlabel(\"Dim 1\")\n",
    "plt.ylabel(\"Dim 2\")\n",
    "plt.grid(True)\n",
    "plt.show()\n"
   ]
  },
  {
   "cell_type": "code",
   "execution_count": null,
   "id": "5902e879-7c8d-4fed-9dd2-109c02c0d3ee",
   "metadata": {},
   "outputs": [],
   "source": [
    "cos2 = (mca_col_coords ** 2).div((mca_col_coords ** 2).sum(axis=1), axis=0)\n",
    "cos2.head()\n"
   ]
  },
  {
   "cell_type": "code",
   "execution_count": null,
   "id": "589d02e7-5dc0-463c-98b2-6c1bc3c2f973",
   "metadata": {},
   "outputs": [],
   "source": [
    "###create model datasets\n",
    "df_val = pd.concat([df_val,df_test],axis=0)\n",
    "####Raw set\n",
    "df_rawtrain = df_train.copy()\n",
    "df_rawval = df_val.copy()\n",
    "\n",
    "\n",
    "###Kmodes\n",
    "km_train = df_train.copy()\n",
    "km_val = df_val.copy()\n",
    "\n",
    "\n",
    "###tflow \n",
    "tf_train=df_train.copy()\n",
    "tf_val=df_val.copy()\n",
    "\n",
    "\n",
    "###tflow \n",
    "rf_train=df_train.copy()\n",
    "rf_val=df_val.copy()\n",
    "\n",
    "\n",
    "###Cluster\n",
    "mc_train=df_train.copy()\n",
    "mc_val=df_val.copy()\n"
   ]
  },
  {
   "cell_type": "code",
   "execution_count": null,
   "id": "d149ee3d-9077-4d47-ac6a-1d7b44edcd91",
   "metadata": {},
   "outputs": [],
   "source": [
    "from joblib import Parallel, delayed\n",
    "\n",
    "# Your targets\n",
    "target_labels = [\"ALL_CHRONIC\", \"ALL_CARDIAC\", \"ALL_PUL\", \"ALL_CHRONIC2\"]\n",
    "\n",
    "# Run all models in parallel\n",
    "baseline_scores = Parallel(n_jobs=4)(\n",
    "    delayed(j_process.run_logistic_model)(\n",
    "        df_rawtrain,\n",
    "        df_rawval,\n",
    "        feature_list,\n",
    "        target,\n",
    "        plot_importance=True,\n",
    "        importance_filename=f\"{target.lower()}_importance.jpg\"\n",
    "    )\n",
    "    for target in target_labels\n",
    ")\n",
    "\n",
    "# Unpack if needed\n",
    "all_chronic_scores, all_cardiac_scores, all_pul_scores, all_chronic2_scores = baseline_scores\n"
   ]
  },
  {
   "cell_type": "code",
   "execution_count": null,
   "id": "1a575ea3-8df9-40e3-ac55-650e23c62119",
   "metadata": {},
   "outputs": [],
   "source": [
    "def summarize_model_results(name, score_dict):\n",
    "    return {\n",
    "        'Model': name,\n",
    "        'Accuracy': score_dict.get('accuracy'),\n",
    "        'Precision': score_dict.get('precision'),\n",
    "        'Recall': score_dict.get('recall'),\n",
    "        'F1 Score': score_dict.get('f1_score')\n",
    "    }\n",
    "\n",
    "summary_df = pd.DataFrame([\n",
    "    summarize_model_results('ALL_CHRONIC', all_chronic_scores),\n",
    "    summarize_model_results('ALL_CARDIAC', all_cardiac_scores),\n",
    "    summarize_model_results('ALL_PUL', all_pul_scores),\n",
    "    summarize_model_results('ALL_CHRONIC2', all_chronic2_scores)\n",
    "])\n",
    "\n",
    "\n",
    "print(summary_df)\n"
   ]
  },
  {
   "cell_type": "code",
   "execution_count": null,
   "id": "9fb0b7f4-35b9-4ec2-b878-2342f785ed1c",
   "metadata": {},
   "outputs": [],
   "source": [
    "all_chronic_results_dict={}\n",
    "all_cardiac_results_dict={}\n",
    "all_pul_results_dict={}\n",
    "all_chronic2_results_dict={}\n",
    "for feature in feature_list:\n",
    "    #print(f\"\\n---Running baseline on feature:{feature}---\")\n",
    "    results = j_process.run_logistic_model(df_rawtrain,df_rawval,[feature],\"ALL_CHRONIC\")\n",
    "    all_chronic_results_dict[feature]=results\n",
    "\n",
    "for feature in feature_list:\n",
    "    #print(f\"\\n---Running baseline on feature:{feature}---\")\n",
    "    results = j_process.run_logistic_model(df_rawtrain,df_rawval,[feature],\"ALL_CARDIAC\")\n",
    "    all_cardiac_results_dict[feature]=results\n",
    "\n",
    "for feature in feature_list:\n",
    "    #print(f\"\\n---Running baseline on feature:{feature}---\")\n",
    "    results = j_process.run_logistic_model(df_rawtrain,df_rawval,[feature],\"ALL_PUL\")\n",
    "    all_pul_results_dict[feature]=results\n",
    "for feature in feature_list:\n",
    "    #print(f\"\\n---Running baseline on feature:{feature}---\")\n",
    "    results = j_process.run_logistic_model(df_rawtrain,df_rawval,[feature],\"ALL_CHRONIC2\")\n",
    "    all_chronic2_results_dict[feature]=results"
   ]
  },
  {
   "cell_type": "code",
   "execution_count": null,
   "id": "1d703ccb-6a9f-4e95-acff-09b1679fe4d4",
   "metadata": {},
   "outputs": [],
   "source": [
    "print(\"Indivdual feature baseline results for ALL_CHRONIC\")\n",
    "df_results = pd.DataFrame.from_dict(all_chronic_results_dict, orient='index')\n",
    "df_results = df_results.round(3)  # Round to 3 decimal places\n",
    "df_results = df_results[['accuracy', 'precision', 'recall', 'f1_score']] \n",
    "fig, ax = plt.subplots(figsize=(8, 6))\n",
    "ax.axis('off')\n",
    "ax.set_title(\"Individual feature baseline results for ALL_CHRONIC\", fontsize=12, fontweight='bold')\n",
    "\n",
    "# Draw the table\n",
    "table = ax.table(\n",
    "    cellText=df_results.values,\n",
    "    colLabels=df_results.columns,\n",
    "    rowLabels=df_results.index,\n",
    "    cellLoc='center',\n",
    "    loc='center',\n",
    "    colLoc='center',\n",
    "    rowLoc='center'\n",
    ")\n",
    "\n",
    "table.auto_set_font_size(True)\n",
    "table.set_fontsize(10)\n",
    "table.scale(1, 1)  \n",
    "# Save as JPEG\n",
    "plt.savefig(\"all_chronic_baseline_table.jpg\", bbox_inches='tight', dpi=150)\n",
    "plt.show()"
   ]
  },
  {
   "cell_type": "code",
   "execution_count": null,
   "id": "14fcf5f5-a90f-475a-b9f0-5665e55fb6e6",
   "metadata": {},
   "outputs": [],
   "source": [
    "\n",
    "df_results = pd.DataFrame.from_dict(all_cardiac_results_dict, orient='index')\n",
    "df_results = df_results.round(3)  # Round to 3 decimal places\n",
    "df_results = df_results[['accuracy', 'precision', 'recall', 'f1_score']] \n",
    "fig, ax = plt.subplots(figsize=(8, 6))\n",
    "ax.axis('off')\n",
    "ax.set_title(\"Individual feature baseline results for ALL_CARDIAC\", fontsize=12, fontweight='bold')\n",
    "\n",
    "# Draw the table\n",
    "table = ax.table(\n",
    "    cellText=df_results.values,\n",
    "    colLabels=df_results.columns,\n",
    "    rowLabels=df_results.index,\n",
    "    cellLoc='center',\n",
    "    loc='center',\n",
    "    colLoc='center',\n",
    "    rowLoc='center'\n",
    ")\n",
    "\n",
    "table.auto_set_font_size(True)\n",
    "table.set_fontsize(10)\n",
    "table.scale(1, 1)  \n",
    "# Save as JPEG\n",
    "plt.savefig(\"all_cardiac_baseline_table.jpg\", bbox_inches='tight', dpi=150)\n",
    "plt.show()"
   ]
  },
  {
   "cell_type": "code",
   "execution_count": null,
   "id": "32ca064d-d8c4-4f9b-bc09-cfa740ae2811",
   "metadata": {},
   "outputs": [],
   "source": [
    "\n",
    "df_results = pd.DataFrame.from_dict(all_pul_results_dict, orient='index')\n",
    "df_results = df_results.round(3)  # Round to 3 decimal places\n",
    "df_results = df_results[['accuracy', 'precision', 'recall', 'f1_score']] \n",
    "fig, ax = plt.subplots(figsize=(8, 6))\n",
    "ax.axis('off')\n",
    "ax.set_title(\"Individual feature baseline results for ALL_PUL\", fontsize=12, fontweight='bold')\n",
    "\n",
    "# Draw the table\n",
    "table = ax.table(\n",
    "    cellText=df_results.values,\n",
    "    colLabels=df_results.columns,\n",
    "    rowLabels=df_results.index,\n",
    "    cellLoc='center',\n",
    "    loc='center',\n",
    "    colLoc='center',\n",
    "    rowLoc='center'\n",
    ")\n",
    "\n",
    "table.auto_set_font_size(True)\n",
    "table.set_fontsize(10)\n",
    "table.scale(1, 1)  \n",
    "# Save as JPEG\n",
    "plt.savefig(\"all_pul_baseline_table.jpg\", bbox_inches='tight', dpi=150)\n",
    "plt.show()"
   ]
  },
  {
   "cell_type": "code",
   "execution_count": null,
   "id": "eb7462b4-11da-4964-8f16-5e8dcd014180",
   "metadata": {},
   "outputs": [],
   "source": [
    "\n",
    "df_results = pd.DataFrame.from_dict(all_chronic2_results_dict, orient='index')\n",
    "df_results = df_results.round(3)  # Round to 3 decimal places\n",
    "df_results = df_results[['accuracy', 'precision', 'recall', 'f1_score']] \n",
    "fig, ax = plt.subplots(figsize=(8, 6))\n",
    "ax.axis('off')\n",
    "ax.set_title(\"Individual feature baseline results for ALL_CHRONIC2\", fontsize=12, fontweight='bold')\n",
    "\n",
    "# Draw the table\n",
    "table = ax.table(\n",
    "    cellText=df_results.values,\n",
    "    colLabels=df_results.columns,\n",
    "    rowLabels=df_results.index,\n",
    "    cellLoc='center',\n",
    "    loc='center',\n",
    "    colLoc='center',\n",
    "    rowLoc='center'\n",
    ")\n",
    "\n",
    "table.auto_set_font_size(True)\n",
    "table.set_fontsize(10)\n",
    "table.scale(1, 1)  \n",
    "# Save as JPEG\n",
    "plt.savefig(\"all_chronic2_baseline_table.jpg\", bbox_inches='tight', dpi=150)\n",
    "plt.show()"
   ]
  },
  {
   "cell_type": "code",
   "execution_count": null,
   "id": "6f26dbc8-2a5f-492b-9f10-c08b464113ac",
   "metadata": {},
   "outputs": [],
   "source": [
    "###RANDOM FOREST BASELINE\n",
    "\n",
    "# Run Random Forest on all features at once\n",
    "rf_all_chronic_scores = j_process.run_rf_model(rf_train, rf_val, feature_list, \"ALL_CHRONIC\")\n",
    "rf_all_cardiac_scores = j_process.run_rf_model(rf_train, rf_val, feature_list, \"ALL_CARDIAC\")\n",
    "rf_all_pul_scores = j_process.run_rf_model(rf_train, rf_val, feature_list, \"ALL_PUL\")\n",
    "rf_chronic2_scores = j_process.run_rf_model(rf_train,rf_val,feature_list,\"ALL_CHRONIC2\")\n",
    "\n",
    "rfsummary_df = pd.DataFrame([\n",
    "    summarize_model_results('ALL_CHRONIC', rf_all_chronic_scores),\n",
    "    summarize_model_results('ALL_CARDIAC', rf_all_cardiac_scores),\n",
    "    summarize_model_results('ALL_PUL', rf_all_pul_scores),\n",
    "    summarize_model_results('ALL_CHRONIC2', rf_chronic2_scores)\n",
    "])\n",
    "\n",
    "\n",
    "print(rfsummary_df)"
   ]
  },
  {
   "cell_type": "code",
   "execution_count": null,
   "id": "f01ebc15-c5f9-475b-8f65-1ec20e3d45ac",
   "metadata": {},
   "outputs": [],
   "source": [
    "#### Skipped this section, this is redundant\n",
    "\n",
    "if skip == True:\n",
    "    print(\"skipping redundant tests\")\n",
    "else:\n",
    "    \n",
    "    \n",
    "\n",
    "\n",
    "    rf_all_chronic_results_dict = {}\n",
    "    rf_all_cardiac_results_dict = {}\n",
    "    rf_all_pul_results_dict = {}\n",
    "    rf_all_chronic2_results_dict={}\n",
    "    \n",
    "    \n",
    "    \n",
    "    \n",
    "    rf_result_dicts = {\n",
    "        \"ALL_CHRONIC\": rf_all_chronic_results_dict,\n",
    "        \"ALL_CARDIAC\": rf_all_cardiac_results_dict,\n",
    "        \"ALL_PUL\": rf_all_pul_results_dict,\n",
    "        \"ALL_CHRONIC2\": rf_all_chronic2_results_dict\n",
    "    }\n",
    "    \n",
    "    for label in target_labels:\n",
    "        for feature in feature_list:\n",
    "            clear_output(wait=True)\n",
    "            print(f\"\\n---Running RF baseline on feature: {feature} [{label}] ---\")\n",
    "            results = j_process.run_rf_model(rf_train, rf_val, [feature], label)\n",
    "            rf_result_dicts[label][feature] = results\n",
    "        "
   ]
  },
  {
   "cell_type": "code",
   "execution_count": null,
   "id": "e15dae31-a4df-4a6f-a297-65ef32541a6f",
   "metadata": {},
   "outputs": [],
   "source": [
    "#####TENSOR FLOW BASELINE\n",
    "\n",
    "tf_all_chronic_scores = j_process.run_tf_model(tf_train, tf_val, feature_list, \"ALL_CHRONIC\")\n",
    "tf_all_cardiac_scores = j_process.run_tf_model(tf_train, tf_val, feature_list, \"ALL_CARDIAC\")\n",
    "tf_all_pul_scores = j_process.run_tf_model(tf_train, tf_val, feature_list, \"ALL_PUL\")\n",
    "tf_chronic2_scores = j_process.run_tf_model(tf_train,tf_val,feature_list,\"ALL_CHRONIC2\")\n",
    "tfsummary_df = pd.DataFrame([\n",
    "    summarize_model_results('ALL_CHRONIC', tf_all_chronic_scores),\n",
    "    summarize_model_results('ALL_CARDIAC', tf_all_cardiac_scores),\n",
    "    summarize_model_results('ALL_PUL', tf_all_pul_scores),\n",
    "    summarize_model_results('ALL_CHRONIC2', tf_chronic2_scores)\n",
    "])\n",
    "\n",
    "\n",
    "print(tfsummary_df)"
   ]
  },
  {
   "cell_type": "code",
   "execution_count": null,
   "id": "449b4402-1ef1-4987-9b5c-b00aa051c421",
   "metadata": {},
   "outputs": [],
   "source": [
    "######Redundant section, skipped \n",
    "\n",
    "\n",
    "if skip == True:\n",
    "    print(\"skipping redundant tests\")\n",
    "else:\n",
    "\n",
    "    ####Tensor flow output\n",
    "    # Prepare per-feature result dicts\n",
    "    tf_all_chronic_results_dict = {}\n",
    "    tf_all_cardiac_results_dict = {}\n",
    "    tf_all_pul_results_dict = {}\n",
    "    tf_all_chronic2_results_dict={}\n",
    "    # Individual feature runs for ALL_CHRONIC\n",
    "    for feature in feature_list:\n",
    "        print(f\"\\n---Running baseline on feature: {feature} [ALL_CHRONIC] ---\")\n",
    "        results = j_process.run_tf_model(tf_train, tf_val, [feature], \"ALL_CHRONIC\")\n",
    "        tf_all_chronic_results_dict[feature] = results\n",
    "    \n",
    "    # Individual feature runs for ALL_CARDIAC\n",
    "    for feature in feature_list:\n",
    "        print(f\"\\n---Running baseline on feature: {feature} [ALL_CARDIAC] ---\")\n",
    "        results = j_process.run_tf_model(tf_train, tf_val, [feature], \"ALL_CARDIAC\")\n",
    "        tf_all_cardiac_results_dict[feature] = results\n",
    "    \n",
    "    # Individual feature runs for ALL_PUL\n",
    "    for feature in feature_list:\n",
    "        print(f\"\\n---Running baseline on feature: {feature} [ALL_PUL] ---\")\n",
    "        results = j_process.run_tf_model(tf_train, tf_val, [feature], \"ALL_PUL\")\n",
    "        tf_all_pul_results_dict[feature] = results\n",
    "    for feature in feature_list:\n",
    "        print(f\"\\n---Running baseline on feature: {feature} [ALL_CHRONIC2] ---\")\n",
    "        results = j_process.run_tf_model(rf_train, rf_val, [feature], \"ALL_CHRONIC2\")\n",
    "        rf_all_chronic2_results_dict[feature] = results"
   ]
  },
  {
   "cell_type": "markdown",
   "id": "2c18af05-bcfa-4eaf-97ea-8a2a0fb3b59d",
   "metadata": {},
   "source": [
    "I am actively writing code beyond this point"
   ]
  },
  {
   "cell_type": "code",
   "execution_count": null,
   "id": "baa5c96e-fb33-419d-8a48-3d5369fd23b2",
   "metadata": {},
   "outputs": [],
   "source": [
    "clusteredtrain_df=df_train.copy()\n",
    "#print(clusteredtrain_df.head())\n",
    "clusteredval_df=df_val.copy()\n",
    "clusterlist=[]\n",
    "\n",
    "k_trials = [2,5,10,25,50,100]\n",
    "print(f\"Running {len(k_trials)}trials, please wait\")\n",
    "for trial in k_trials:\n",
    "    print(f\"Running trial {trial}\")\n",
    "    print(\"Kmodes running....\")\n",
    "    km_,km_col,cost = j_process.run_kmodes_cluster(km_train,feature_list,trial)\n",
    "    clusterlist.append(km_col)\n",
    "    km_test,km_col,cost=j_process.run_kmodes_cluster(km_val,feature_list,trial)\n",
    "    print(\"Tensor flow running....\")\n",
    "    tf_train,tf_col=j_process.run_tf_clustering(tf_train,feature_list,trial,verbose=0)\n",
    "    clusterlist.append(tf_col)\n",
    "    tf_test,tf_col=j_process.run_tf_clustering(tf_val,feature_list,trial,verbose=0)\n",
    "    \n",
    "\n",
    "only_cresults=[]\n",
    "for km in km_col:\n",
    "    print(km)\n",
    "    \n",
    "    "
   ]
  },
  {
   "cell_type": "code",
   "execution_count": null,
   "id": "a78ee5b9-ed16-4370-a14d-762e903c3ddc",
   "metadata": {},
   "outputs": [],
   "source": []
  },
  {
   "cell_type": "code",
   "execution_count": null,
   "id": "fb707981-de26-4f61-ba70-c472e1d2f62b",
   "metadata": {},
   "outputs": [],
   "source": []
  },
  {
   "cell_type": "code",
   "execution_count": null,
   "id": "a252fccf-8b18-4841-ad2f-d8e9ccf1b90e",
   "metadata": {},
   "outputs": [],
   "source": [
    "###copy data frame to add clustering only results (MCA will change the columns)\n",
    "\n",
    "\n",
    "\n",
    "kmcluster_log_chronic_scores=j_process.run_logistic_model(km_train,km_test,feature_list+[km_col],\"ALL_CHRONIC\")\n",
    "kmcluster_log_cardiac_scores=j_process.run_logistic_model(km_train,km_test,feature_list+[km_col],\"ALL_CARDIAC\")\n",
    "kmcluster_log_pul_scores=j_process.run_logistic_model(km_train,km_test,feature_list+[km_col],\"ALL_PUL\")\n",
    "kmcluster_log_chronic2_scores=j_process.run_logistic_model(km_train,km_test,feature_list+[km_col],\"ALL_CHRONIC2\")\n",
    "kmcluster_tf_chronic_scores=j_process.run_tf_model(km_train,km_test,feature_list+[km_col],\"ALL_CHRONIC\")\n",
    "kmcluster_tf_cardiac_scores=j_process.run_tf_model(km_train,km_test,feature_list+[km_col],\"ALL_CARDIAC\")\n",
    "kmcluster_tf_pul_scores=j_process.run_tf_model(km_train,km_test,feature_list+[km_col],\"ALL_PUL\")\n",
    "kmcluster_tf_chronic2_scores=j_process.run_tf_model(km_train,km_test,feature_list+[km_col],\"ALL_CHRONIC2\")\n",
    "kmcluster_rf_chronic_scores=j_process.run_rf_model(km_train,km_test,feature_list+[km_col],\"ALL_CHRONIC\")\n",
    "kmcluster_rf_cardiac_scores=j_process.run_rf_model(km_train,km_test,feature_list+[km_col],\"ALL_CARDIAC\")\n",
    "kmcluster_rf_pul_scores=j_process.run_rf_model(km_train,km_test,feature_list+[km_col],\"ALL_PUL\")\n",
    "kmcluster_rf_chronic2_scores=j_process.run_rf_model(km_train,km_test,feature_list+[km_col],\"ALL_CHRONIC2\")\n",
    "tmcluster_log_chronic_scores=j_process.run_logistic_model(tf_train,tf_test,feature_list+[tf_col],\"ALL_CHRONIC\")\n",
    "tmcluster_log_cardiac_scores=j_process.run_logistic_model(tf_train,tf_test,feature_list+[tf_col],\"ALL_CARDIAC\")\n",
    "tmcluster_log_pul_scores=j_process.run_logistic_model(tf_train,tf_test,feature_list+[tf_col],\"ALL_PUL\")\n",
    "tmcluster_log_chronic2_scores=j_process.run_logistic_model(tf_train,tf_test,feature_list+[tf_col],\"ALL_CHRONIC2\")\n",
    "tmcluster_tf_chronic_scores=j_process.run_tf_model(tf_train,tf_test,feature_list+[tf_col],\"ALL_CHRONIC\")\n",
    "tmcluster_tf_cardiac_scores=j_process.run_tf_model(tf_train,tf_test,feature_list+[tf_col],\"ALL_CARDIAC\")\n",
    "tmcluster_tf_pul_scores=j_process.run_tf_model(tf_train,tf_test,feature_list+[tf_col],\"ALL_PUL\")\n",
    "tmcluster_tf_chronic2_scores=j_process.run_tf_model(tf_train,tf_test,feature_list+[tf_col],\"ALL_CHRONIC2\")\n",
    "tmcluster_rf_chronic_scores=j_process.run_rf_model(tf_train,tf_test,feature_list+[tf_col],\"ALL_CHRONIC\")\n",
    "tmcluster_rf_cardiac_scores=j_process.run_rf_model(tf_train,tf_test,feature_list+[tf_col],\"ALL_CARDIAC\")\n",
    "tmcluster_rf_pul_scores=j_process.run_rf_model(tf_train,tf_test,feature_list+[tf_col],\"ALL_PUL\")\n",
    "tmcluster_rf_chronic2_scores=j_process.run_rf_model(tf_train,tf_test,feature_list+[tf_col],\"ALL_CHRONIC2\")"
   ]
  },
  {
   "cell_type": "code",
   "execution_count": null,
   "id": "0028eee7-b2ef-4dab-841a-30412dfb2818",
   "metadata": {},
   "outputs": [],
   "source": [
    "\n",
    "\n",
    "\n"
   ]
  }
 ],
 "metadata": {
  "kernelspec": {
   "display_name": "Python 3 (ipykernel)",
   "language": "python",
   "name": "python3"
  },
  "language_info": {
   "codemirror_mode": {
    "name": "ipython",
    "version": 3
   },
   "file_extension": ".py",
   "mimetype": "text/x-python",
   "name": "python",
   "nbconvert_exporter": "python",
   "pygments_lexer": "ipython3",
   "version": "3.12.3"
  }
 },
 "nbformat": 4,
 "nbformat_minor": 5
}
