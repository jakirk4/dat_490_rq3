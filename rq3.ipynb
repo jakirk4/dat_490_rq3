{
 "cells": [
  {
   "cell_type": "code",
   "id": "baf46e0c-4be5-4964-9079-78af0bc5884d",
   "metadata": {
    "ExecuteTime": {
     "end_time": "2025-06-11T05:45:04.761527Z",
     "start_time": "2025-06-11T05:45:00.614443Z"
    }
   },
   "source": [
    "import pandas as pd\n",
    "import numpy as np\n",
    "import matplotlib.pyplot as plt\n",
    "import seaborn as sns\n",
    "pd.set_option('display.max_columns', None)\n",
    "from sklearn.model_selection import train_test_split\n",
    "import j_process\n",
    "import j_clustertuner"
   ],
   "outputs": [
    {
     "ename": "ImportError",
     "evalue": "cannot import name 'float8_e4m3b11fnuz' from 'tensorflow.python.framework.dtypes' (C:\\Users\\jaime\\anaconda3\\Lib\\site-packages\\tensorflow\\python\\framework\\dtypes.py)",
     "output_type": "error",
     "traceback": [
      "\u001B[31m---------------------------------------------------------------------------\u001B[39m",
      "\u001B[31mImportError\u001B[39m                               Traceback (most recent call last)",
      "\u001B[36mCell\u001B[39m\u001B[36m \u001B[39m\u001B[32mIn[1]\u001B[39m\u001B[32m, line 7\u001B[39m\n\u001B[32m      5\u001B[39m pd.set_option(\u001B[33m'\u001B[39m\u001B[33mdisplay.max_columns\u001B[39m\u001B[33m'\u001B[39m, \u001B[38;5;28;01mNone\u001B[39;00m)\n\u001B[32m      6\u001B[39m \u001B[38;5;28;01mfrom\u001B[39;00m\u001B[38;5;250m \u001B[39m\u001B[34;01msklearn\u001B[39;00m\u001B[34;01m.\u001B[39;00m\u001B[34;01mmodel_selection\u001B[39;00m\u001B[38;5;250m \u001B[39m\u001B[38;5;28;01mimport\u001B[39;00m train_test_split\n\u001B[32m----> \u001B[39m\u001B[32m7\u001B[39m \u001B[38;5;28;01mimport\u001B[39;00m\u001B[38;5;250m \u001B[39m\u001B[34;01mj_process\u001B[39;00m\n\u001B[32m      8\u001B[39m \u001B[38;5;28;01mimport\u001B[39;00m\u001B[38;5;250m \u001B[39m\u001B[34;01mj_clustertuner\u001B[39;00m\n",
      "\u001B[36mFile \u001B[39m\u001B[32m~\\PycharmProjects\\rq3\\j_process.py:10\u001B[39m\n\u001B[32m      8\u001B[39m \u001B[38;5;28;01mfrom\u001B[39;00m\u001B[38;5;250m \u001B[39m\u001B[34;01msklearn\u001B[39;00m\u001B[34;01m.\u001B[39;00m\u001B[34;01mlinear_model\u001B[39;00m\u001B[38;5;250m \u001B[39m\u001B[38;5;28;01mimport\u001B[39;00m LogisticRegression\n\u001B[32m      9\u001B[39m \u001B[38;5;28;01mfrom\u001B[39;00m\u001B[38;5;250m \u001B[39m\u001B[34;01msklearn\u001B[39;00m\u001B[34;01m.\u001B[39;00m\u001B[34;01mmetrics\u001B[39;00m\u001B[38;5;250m \u001B[39m\u001B[38;5;28;01mimport\u001B[39;00m accuracy_score\n\u001B[32m---> \u001B[39m\u001B[32m10\u001B[39m \u001B[38;5;28;01mimport\u001B[39;00m\u001B[38;5;250m \u001B[39m\u001B[34;01mtensorflow\u001B[39;00m\u001B[38;5;250m \u001B[39m\u001B[38;5;28;01mas\u001B[39;00m\u001B[38;5;250m \u001B[39m\u001B[34;01mtf\u001B[39;00m\n\u001B[32m     12\u001B[39m __docstrings__ = {}\n\u001B[32m     14\u001B[39m \u001B[38;5;28;01mdef\u001B[39;00m\u001B[38;5;250m \u001B[39m\u001B[34mhelp\u001B[39m(command=\u001B[38;5;28;01mNone\u001B[39;00m):\n",
      "\u001B[36mFile \u001B[39m\u001B[32m~\\anaconda3\\Lib\\site-packages\\tensorflow\\__init__.py:55\u001B[39m\n\u001B[32m     53\u001B[39m \u001B[38;5;28;01mfrom\u001B[39;00m\u001B[38;5;250m \u001B[39m\u001B[34;01mtensorflow\u001B[39;00m\u001B[34;01m.\u001B[39;00m\u001B[34;01m_api\u001B[39;00m\u001B[34;01m.\u001B[39;00m\u001B[34;01mv2\u001B[39;00m\u001B[38;5;250m \u001B[39m\u001B[38;5;28;01mimport\u001B[39;00m autograph\n\u001B[32m     54\u001B[39m \u001B[38;5;28;01mfrom\u001B[39;00m\u001B[38;5;250m \u001B[39m\u001B[34;01mtensorflow\u001B[39;00m\u001B[34;01m.\u001B[39;00m\u001B[34;01m_api\u001B[39;00m\u001B[34;01m.\u001B[39;00m\u001B[34;01mv2\u001B[39;00m\u001B[38;5;250m \u001B[39m\u001B[38;5;28;01mimport\u001B[39;00m bitwise\n\u001B[32m---> \u001B[39m\u001B[32m55\u001B[39m \u001B[38;5;28;01mfrom\u001B[39;00m\u001B[38;5;250m \u001B[39m\u001B[34;01mtensorflow\u001B[39;00m\u001B[34;01m.\u001B[39;00m\u001B[34;01m_api\u001B[39;00m\u001B[34;01m.\u001B[39;00m\u001B[34;01mv2\u001B[39;00m\u001B[38;5;250m \u001B[39m\u001B[38;5;28;01mimport\u001B[39;00m compat\n\u001B[32m     56\u001B[39m \u001B[38;5;28;01mfrom\u001B[39;00m\u001B[38;5;250m \u001B[39m\u001B[34;01mtensorflow\u001B[39;00m\u001B[34;01m.\u001B[39;00m\u001B[34;01m_api\u001B[39;00m\u001B[34;01m.\u001B[39;00m\u001B[34;01mv2\u001B[39;00m\u001B[38;5;250m \u001B[39m\u001B[38;5;28;01mimport\u001B[39;00m config\n\u001B[32m     57\u001B[39m \u001B[38;5;28;01mfrom\u001B[39;00m\u001B[38;5;250m \u001B[39m\u001B[34;01mtensorflow\u001B[39;00m\u001B[34;01m.\u001B[39;00m\u001B[34;01m_api\u001B[39;00m\u001B[34;01m.\u001B[39;00m\u001B[34;01mv2\u001B[39;00m\u001B[38;5;250m \u001B[39m\u001B[38;5;28;01mimport\u001B[39;00m data\n",
      "\u001B[36mFile \u001B[39m\u001B[32m~\\anaconda3\\Lib\\site-packages\\tensorflow\\_api\\v2\\compat\\__init__.py:8\u001B[39m\n\u001B[32m      3\u001B[39m \u001B[33;03m\"\"\"Public API for tf._api.v2.compat namespace\u001B[39;00m\n\u001B[32m      4\u001B[39m \u001B[33;03m\"\"\"\u001B[39;00m\n\u001B[32m      6\u001B[39m \u001B[38;5;28;01mimport\u001B[39;00m\u001B[38;5;250m \u001B[39m\u001B[34;01msys\u001B[39;00m\u001B[38;5;250m \u001B[39m\u001B[38;5;28;01mas\u001B[39;00m\u001B[38;5;250m \u001B[39m\u001B[34;01m_sys\u001B[39;00m\n\u001B[32m----> \u001B[39m\u001B[32m8\u001B[39m \u001B[38;5;28;01mfrom\u001B[39;00m\u001B[38;5;250m \u001B[39m\u001B[34;01mtensorflow\u001B[39;00m\u001B[34;01m.\u001B[39;00m\u001B[34;01m_api\u001B[39;00m\u001B[34;01m.\u001B[39;00m\u001B[34;01mv2\u001B[39;00m\u001B[34;01m.\u001B[39;00m\u001B[34;01mcompat\u001B[39;00m\u001B[38;5;250m \u001B[39m\u001B[38;5;28;01mimport\u001B[39;00m v1\n\u001B[32m      9\u001B[39m \u001B[38;5;28;01mfrom\u001B[39;00m\u001B[38;5;250m \u001B[39m\u001B[34;01mtensorflow\u001B[39;00m\u001B[34;01m.\u001B[39;00m\u001B[34;01m_api\u001B[39;00m\u001B[34;01m.\u001B[39;00m\u001B[34;01mv2\u001B[39;00m\u001B[34;01m.\u001B[39;00m\u001B[34;01mcompat\u001B[39;00m\u001B[38;5;250m \u001B[39m\u001B[38;5;28;01mimport\u001B[39;00m v2\n\u001B[32m     10\u001B[39m \u001B[38;5;28;01mfrom\u001B[39;00m\u001B[38;5;250m \u001B[39m\u001B[34;01mtensorflow\u001B[39;00m\u001B[34;01m.\u001B[39;00m\u001B[34;01mpython\u001B[39;00m\u001B[34;01m.\u001B[39;00m\u001B[34;01mcompat\u001B[39;00m\u001B[34;01m.\u001B[39;00m\u001B[34;01mcompat\u001B[39;00m\u001B[38;5;250m \u001B[39m\u001B[38;5;28;01mimport\u001B[39;00m forward_compatibility_horizon \u001B[38;5;66;03m# line: 125\u001B[39;00m\n",
      "\u001B[36mFile \u001B[39m\u001B[32m~\\anaconda3\\Lib\\site-packages\\tensorflow\\_api\\v2\\compat\\v1\\__init__.py:30\u001B[39m\n\u001B[32m     28\u001B[39m \u001B[38;5;28;01mfrom\u001B[39;00m\u001B[38;5;250m \u001B[39m\u001B[34;01mtensorflow\u001B[39;00m\u001B[34;01m.\u001B[39;00m\u001B[34;01m_api\u001B[39;00m\u001B[34;01m.\u001B[39;00m\u001B[34;01mv2\u001B[39;00m\u001B[34;01m.\u001B[39;00m\u001B[34;01mcompat\u001B[39;00m\u001B[34;01m.\u001B[39;00m\u001B[34;01mv1\u001B[39;00m\u001B[38;5;250m \u001B[39m\u001B[38;5;28;01mimport\u001B[39;00m autograph\n\u001B[32m     29\u001B[39m \u001B[38;5;28;01mfrom\u001B[39;00m\u001B[38;5;250m \u001B[39m\u001B[34;01mtensorflow\u001B[39;00m\u001B[34;01m.\u001B[39;00m\u001B[34;01m_api\u001B[39;00m\u001B[34;01m.\u001B[39;00m\u001B[34;01mv2\u001B[39;00m\u001B[34;01m.\u001B[39;00m\u001B[34;01mcompat\u001B[39;00m\u001B[34;01m.\u001B[39;00m\u001B[34;01mv1\u001B[39;00m\u001B[38;5;250m \u001B[39m\u001B[38;5;28;01mimport\u001B[39;00m bitwise\n\u001B[32m---> \u001B[39m\u001B[32m30\u001B[39m \u001B[38;5;28;01mfrom\u001B[39;00m\u001B[38;5;250m \u001B[39m\u001B[34;01mtensorflow\u001B[39;00m\u001B[34;01m.\u001B[39;00m\u001B[34;01m_api\u001B[39;00m\u001B[34;01m.\u001B[39;00m\u001B[34;01mv2\u001B[39;00m\u001B[34;01m.\u001B[39;00m\u001B[34;01mcompat\u001B[39;00m\u001B[34;01m.\u001B[39;00m\u001B[34;01mv1\u001B[39;00m\u001B[38;5;250m \u001B[39m\u001B[38;5;28;01mimport\u001B[39;00m compat\n\u001B[32m     31\u001B[39m \u001B[38;5;28;01mfrom\u001B[39;00m\u001B[38;5;250m \u001B[39m\u001B[34;01mtensorflow\u001B[39;00m\u001B[34;01m.\u001B[39;00m\u001B[34;01m_api\u001B[39;00m\u001B[34;01m.\u001B[39;00m\u001B[34;01mv2\u001B[39;00m\u001B[34;01m.\u001B[39;00m\u001B[34;01mcompat\u001B[39;00m\u001B[34;01m.\u001B[39;00m\u001B[34;01mv1\u001B[39;00m\u001B[38;5;250m \u001B[39m\u001B[38;5;28;01mimport\u001B[39;00m config\n\u001B[32m     32\u001B[39m \u001B[38;5;28;01mfrom\u001B[39;00m\u001B[38;5;250m \u001B[39m\u001B[34;01mtensorflow\u001B[39;00m\u001B[34;01m.\u001B[39;00m\u001B[34;01m_api\u001B[39;00m\u001B[34;01m.\u001B[39;00m\u001B[34;01mv2\u001B[39;00m\u001B[34;01m.\u001B[39;00m\u001B[34;01mcompat\u001B[39;00m\u001B[34;01m.\u001B[39;00m\u001B[34;01mv1\u001B[39;00m\u001B[38;5;250m \u001B[39m\u001B[38;5;28;01mimport\u001B[39;00m data\n",
      "\u001B[36mFile \u001B[39m\u001B[32m~\\anaconda3\\Lib\\site-packages\\tensorflow\\_api\\v2\\compat\\v1\\compat\\__init__.py:8\u001B[39m\n\u001B[32m      3\u001B[39m \u001B[33;03m\"\"\"Public API for tf._api.v2.compat namespace\u001B[39;00m\n\u001B[32m      4\u001B[39m \u001B[33;03m\"\"\"\u001B[39;00m\n\u001B[32m      6\u001B[39m \u001B[38;5;28;01mimport\u001B[39;00m\u001B[38;5;250m \u001B[39m\u001B[34;01msys\u001B[39;00m\u001B[38;5;250m \u001B[39m\u001B[38;5;28;01mas\u001B[39;00m\u001B[38;5;250m \u001B[39m\u001B[34;01m_sys\u001B[39;00m\n\u001B[32m----> \u001B[39m\u001B[32m8\u001B[39m \u001B[38;5;28;01mfrom\u001B[39;00m\u001B[38;5;250m \u001B[39m\u001B[34;01mtensorflow\u001B[39;00m\u001B[34;01m.\u001B[39;00m\u001B[34;01m_api\u001B[39;00m\u001B[34;01m.\u001B[39;00m\u001B[34;01mv2\u001B[39;00m\u001B[34;01m.\u001B[39;00m\u001B[34;01mcompat\u001B[39;00m\u001B[34;01m.\u001B[39;00m\u001B[34;01mv1\u001B[39;00m\u001B[34;01m.\u001B[39;00m\u001B[34;01mcompat\u001B[39;00m\u001B[38;5;250m \u001B[39m\u001B[38;5;28;01mimport\u001B[39;00m v1\n\u001B[32m      9\u001B[39m \u001B[38;5;28;01mfrom\u001B[39;00m\u001B[38;5;250m \u001B[39m\u001B[34;01mtensorflow\u001B[39;00m\u001B[34;01m.\u001B[39;00m\u001B[34;01m_api\u001B[39;00m\u001B[34;01m.\u001B[39;00m\u001B[34;01mv2\u001B[39;00m\u001B[34;01m.\u001B[39;00m\u001B[34;01mcompat\u001B[39;00m\u001B[34;01m.\u001B[39;00m\u001B[34;01mv1\u001B[39;00m\u001B[34;01m.\u001B[39;00m\u001B[34;01mcompat\u001B[39;00m\u001B[38;5;250m \u001B[39m\u001B[38;5;28;01mimport\u001B[39;00m v2\n\u001B[32m     10\u001B[39m \u001B[38;5;28;01mfrom\u001B[39;00m\u001B[38;5;250m \u001B[39m\u001B[34;01mtensorflow\u001B[39;00m\u001B[34;01m.\u001B[39;00m\u001B[34;01mpython\u001B[39;00m\u001B[34;01m.\u001B[39;00m\u001B[34;01mcompat\u001B[39;00m\u001B[34;01m.\u001B[39;00m\u001B[34;01mcompat\u001B[39;00m\u001B[38;5;250m \u001B[39m\u001B[38;5;28;01mimport\u001B[39;00m forward_compatibility_horizon \u001B[38;5;66;03m# line: 125\u001B[39;00m\n",
      "\u001B[36mFile \u001B[39m\u001B[32m~\\anaconda3\\Lib\\site-packages\\tensorflow\\_api\\v2\\compat\\v1\\compat\\v1\\__init__.py:36\u001B[39m\n\u001B[32m     34\u001B[39m \u001B[38;5;28;01mfrom\u001B[39;00m\u001B[38;5;250m \u001B[39m\u001B[34;01mtensorflow\u001B[39;00m\u001B[34;01m.\u001B[39;00m\u001B[34;01m_api\u001B[39;00m\u001B[34;01m.\u001B[39;00m\u001B[34;01mv2\u001B[39;00m\u001B[34;01m.\u001B[39;00m\u001B[34;01mcompat\u001B[39;00m\u001B[34;01m.\u001B[39;00m\u001B[34;01mv1\u001B[39;00m\u001B[38;5;250m \u001B[39m\u001B[38;5;28;01mimport\u001B[39;00m distribute\n\u001B[32m     35\u001B[39m \u001B[38;5;28;01mfrom\u001B[39;00m\u001B[38;5;250m \u001B[39m\u001B[34;01mtensorflow\u001B[39;00m\u001B[34;01m.\u001B[39;00m\u001B[34;01m_api\u001B[39;00m\u001B[34;01m.\u001B[39;00m\u001B[34;01mv2\u001B[39;00m\u001B[34;01m.\u001B[39;00m\u001B[34;01mcompat\u001B[39;00m\u001B[34;01m.\u001B[39;00m\u001B[34;01mv1\u001B[39;00m\u001B[38;5;250m \u001B[39m\u001B[38;5;28;01mimport\u001B[39;00m distributions\n\u001B[32m---> \u001B[39m\u001B[32m36\u001B[39m \u001B[38;5;28;01mfrom\u001B[39;00m\u001B[38;5;250m \u001B[39m\u001B[34;01mtensorflow\u001B[39;00m\u001B[34;01m.\u001B[39;00m\u001B[34;01m_api\u001B[39;00m\u001B[34;01m.\u001B[39;00m\u001B[34;01mv2\u001B[39;00m\u001B[34;01m.\u001B[39;00m\u001B[34;01mcompat\u001B[39;00m\u001B[34;01m.\u001B[39;00m\u001B[34;01mv1\u001B[39;00m\u001B[38;5;250m \u001B[39m\u001B[38;5;28;01mimport\u001B[39;00m dtypes\n\u001B[32m     37\u001B[39m \u001B[38;5;28;01mfrom\u001B[39;00m\u001B[38;5;250m \u001B[39m\u001B[34;01mtensorflow\u001B[39;00m\u001B[34;01m.\u001B[39;00m\u001B[34;01m_api\u001B[39;00m\u001B[34;01m.\u001B[39;00m\u001B[34;01mv2\u001B[39;00m\u001B[34;01m.\u001B[39;00m\u001B[34;01mcompat\u001B[39;00m\u001B[34;01m.\u001B[39;00m\u001B[34;01mv1\u001B[39;00m\u001B[38;5;250m \u001B[39m\u001B[38;5;28;01mimport\u001B[39;00m errors\n\u001B[32m     38\u001B[39m \u001B[38;5;28;01mfrom\u001B[39;00m\u001B[38;5;250m \u001B[39m\u001B[34;01mtensorflow\u001B[39;00m\u001B[34;01m.\u001B[39;00m\u001B[34;01m_api\u001B[39;00m\u001B[34;01m.\u001B[39;00m\u001B[34;01mv2\u001B[39;00m\u001B[34;01m.\u001B[39;00m\u001B[34;01mcompat\u001B[39;00m\u001B[34;01m.\u001B[39;00m\u001B[34;01mv1\u001B[39;00m\u001B[38;5;250m \u001B[39m\u001B[38;5;28;01mimport\u001B[39;00m experimental\n",
      "\u001B[36mFile \u001B[39m\u001B[32m~\\anaconda3\\Lib\\site-packages\\tensorflow\\_api\\v2\\compat\\v1\\dtypes\\__init__.py:8\u001B[39m\n\u001B[32m      3\u001B[39m \u001B[33;03m\"\"\"Public API for tf._api.v2.dtypes namespace\u001B[39;00m\n\u001B[32m      4\u001B[39m \u001B[33;03m\"\"\"\u001B[39;00m\n\u001B[32m      6\u001B[39m \u001B[38;5;28;01mimport\u001B[39;00m\u001B[38;5;250m \u001B[39m\u001B[34;01msys\u001B[39;00m\u001B[38;5;250m \u001B[39m\u001B[38;5;28;01mas\u001B[39;00m\u001B[38;5;250m \u001B[39m\u001B[34;01m_sys\u001B[39;00m\n\u001B[32m----> \u001B[39m\u001B[32m8\u001B[39m \u001B[38;5;28;01mfrom\u001B[39;00m\u001B[38;5;250m \u001B[39m\u001B[34;01mtensorflow\u001B[39;00m\u001B[34;01m.\u001B[39;00m\u001B[34;01m_api\u001B[39;00m\u001B[34;01m.\u001B[39;00m\u001B[34;01mv2\u001B[39;00m\u001B[34;01m.\u001B[39;00m\u001B[34;01mcompat\u001B[39;00m\u001B[34;01m.\u001B[39;00m\u001B[34;01mv1\u001B[39;00m\u001B[34;01m.\u001B[39;00m\u001B[34;01mdtypes\u001B[39;00m\u001B[38;5;250m \u001B[39m\u001B[38;5;28;01mimport\u001B[39;00m experimental\n\u001B[32m      9\u001B[39m \u001B[38;5;28;01mfrom\u001B[39;00m\u001B[38;5;250m \u001B[39m\u001B[34;01mtensorflow\u001B[39;00m\u001B[34;01m.\u001B[39;00m\u001B[34;01mpython\u001B[39;00m\u001B[34;01m.\u001B[39;00m\u001B[34;01mops\u001B[39;00m\u001B[34;01m.\u001B[39;00m\u001B[34;01mgen_string_ops\u001B[39;00m\u001B[38;5;250m \u001B[39m\u001B[38;5;28;01mimport\u001B[39;00m as_string \u001B[38;5;66;03m# line: 29\u001B[39;00m\n\u001B[32m     10\u001B[39m \u001B[38;5;28;01mfrom\u001B[39;00m\u001B[38;5;250m \u001B[39m\u001B[34;01mtensorflow\u001B[39;00m\u001B[34;01m.\u001B[39;00m\u001B[34;01mpython\u001B[39;00m\u001B[34;01m.\u001B[39;00m\u001B[34;01mframework\u001B[39;00m\u001B[34;01m.\u001B[39;00m\u001B[34;01mdtypes\u001B[39;00m\u001B[38;5;250m \u001B[39m\u001B[38;5;28;01mimport\u001B[39;00m DType \u001B[38;5;66;03m# line: 51\u001B[39;00m\n",
      "\u001B[36mFile \u001B[39m\u001B[32m~\\anaconda3\\Lib\\site-packages\\tensorflow\\_api\\v2\\compat\\v1\\dtypes\\experimental\\__init__.py:8\u001B[39m\n\u001B[32m      3\u001B[39m \u001B[33;03m\"\"\"Public API for tf._api.v2.dtypes.experimental namespace\u001B[39;00m\n\u001B[32m      4\u001B[39m \u001B[33;03m\"\"\"\u001B[39;00m\n\u001B[32m      6\u001B[39m \u001B[38;5;28;01mimport\u001B[39;00m\u001B[38;5;250m \u001B[39m\u001B[34;01msys\u001B[39;00m\u001B[38;5;250m \u001B[39m\u001B[38;5;28;01mas\u001B[39;00m\u001B[38;5;250m \u001B[39m\u001B[34;01m_sys\u001B[39;00m\n\u001B[32m----> \u001B[39m\u001B[32m8\u001B[39m \u001B[38;5;28;01mfrom\u001B[39;00m\u001B[38;5;250m \u001B[39m\u001B[34;01mtensorflow\u001B[39;00m\u001B[34;01m.\u001B[39;00m\u001B[34;01mpython\u001B[39;00m\u001B[34;01m.\u001B[39;00m\u001B[34;01mframework\u001B[39;00m\u001B[34;01m.\u001B[39;00m\u001B[34;01mdtypes\u001B[39;00m\u001B[38;5;250m \u001B[39m\u001B[38;5;28;01mimport\u001B[39;00m float8_e4m3b11fnuz \u001B[38;5;66;03m# line: 465\u001B[39;00m\n\u001B[32m      9\u001B[39m \u001B[38;5;28;01mfrom\u001B[39;00m\u001B[38;5;250m \u001B[39m\u001B[34;01mtensorflow\u001B[39;00m\u001B[34;01m.\u001B[39;00m\u001B[34;01mpython\u001B[39;00m\u001B[34;01m.\u001B[39;00m\u001B[34;01mframework\u001B[39;00m\u001B[34;01m.\u001B[39;00m\u001B[34;01mdtypes\u001B[39;00m\u001B[38;5;250m \u001B[39m\u001B[38;5;28;01mimport\u001B[39;00m float8_e4m3fn \u001B[38;5;66;03m# line: 439\u001B[39;00m\n\u001B[32m     10\u001B[39m \u001B[38;5;28;01mfrom\u001B[39;00m\u001B[38;5;250m \u001B[39m\u001B[34;01mtensorflow\u001B[39;00m\u001B[34;01m.\u001B[39;00m\u001B[34;01mpython\u001B[39;00m\u001B[34;01m.\u001B[39;00m\u001B[34;01mframework\u001B[39;00m\u001B[34;01m.\u001B[39;00m\u001B[34;01mdtypes\u001B[39;00m\u001B[38;5;250m \u001B[39m\u001B[38;5;28;01mimport\u001B[39;00m float8_e4m3fnuz \u001B[38;5;66;03m# line: 452\u001B[39;00m\n",
      "\u001B[31mImportError\u001B[39m: cannot import name 'float8_e4m3b11fnuz' from 'tensorflow.python.framework.dtypes' (C:\\Users\\jaime\\anaconda3\\Lib\\site-packages\\tensorflow\\python\\framework\\dtypes.py)"
     ]
    }
   ],
   "execution_count": 1
  },
  {
   "cell_type": "code",
   "execution_count": null,
   "id": "63cb4232-682f-4170-a7e4-59a10264d75b",
   "metadata": {
    "ExecuteTime": {
     "end_time": "2025-06-10T01:27:41.839642Z",
     "start_time": "2025-06-10T01:27:41.473980Z"
    }
   },
   "outputs": [],
   "source": [
    "df = pd.read_parquet(\"filtered.parquet\")"
   ]
  },
  {
   "cell_type": "code",
   "execution_count": null,
   "id": "7d86b607-f8e9-4b7e-a463-abf94b8f64f8",
   "metadata": {
    "ExecuteTime": {
     "end_time": "2025-06-10T01:27:41.864108Z",
     "start_time": "2025-06-10T01:27:41.851212Z"
    }
   },
   "outputs": [],
   "source": [
    "df.head()"
   ]
  },
  {
   "cell_type": "code",
   "execution_count": null,
   "id": "ce7239e2-fbab-47b0-89c2-3edd26b3a993",
   "metadata": {
    "ExecuteTime": {
     "end_time": "2025-06-10T01:27:41.905613Z",
     "start_time": "2025-06-10T01:27:41.901693Z"
    }
   },
   "outputs": [],
   "source": [
    "#Just a function to help me visualize each feature\n",
    "\n",
    "def i_graph(colname):\n",
    "    ig_counts = df[colname].value_counts(dropna=False)\n",
    "    \n",
    "    print(\"Value counts for\", colname)\n",
    "    print(ig_counts)\n",
    "    \n"
   ]
  },
  {
   "cell_type": "code",
   "execution_count": null,
   "id": "f256c056-d1aa-4c3f-b5c2-f95a26a9dde7",
   "metadata": {
    "ExecuteTime": {
     "end_time": "2025-06-10T01:27:41.983054Z",
     "start_time": "2025-06-10T01:27:41.979856Z"
    }
   },
   "outputs": [],
   "source": [
    "def repval(colname, stringstorepl):\n",
    "    df[colname] = df[colname].replace(stringstorepl,np.nan)\n",
    "    rg_counts = df[colname].value_counts(dropna=False)\n",
    "\n",
    "\n",
    "\n"
   ]
  },
  {
   "metadata": {},
   "cell_type": "code",
   "outputs": [],
   "execution_count": null,
   "source": [
    "def basic_plot(colname):\n",
    "    rg_counts = df[colname].value_counts(dropna=False)\n",
    "    rg_ax = rg_counts.plot(kind='bar')\n",
    "    plt.title('Counts per Category')\n",
    "    plt.xlabel('Category')\n",
    "    plt.ylabel('Count')\n",
    "\n",
    "\n",
    "    for i, v in enumerate(rg_counts):\n",
    "        rg_ax.text(i, v + max(rg_counts) * 0.01, str(v), ha='center', va='bottom')\n",
    "\n",
    "    plt.tight_layout()\n",
    "    rg_title = colname\n",
    "    rg_filename = rg_title.replace(\" \", \"_\").replace(\"/\", \"-\") + \".jpg\"\n",
    "    plt.savefig(rg_filename, format='jpg', dpi=300)\n",
    "    plt.show()\n"
   ],
   "id": "26aba1efc701ffac"
  },
  {
   "cell_type": "code",
   "execution_count": null,
   "id": "fe3d4871-29aa-4766-b22c-45e8ef141263",
   "metadata": {
    "ExecuteTime": {
     "end_time": "2025-06-10T01:27:42.049543Z",
     "start_time": "2025-06-10T01:27:42.036072Z"
    }
   },
   "outputs": [],
   "source": "\n"
  },
  {
   "cell_type": "code",
   "id": "2daa745a-fd2c-4405-b506-bae1509f713c",
   "metadata": {
    "jupyter": {
     "is_executing": true
    }
   },
   "source": [
    "default = [\"Don't know/Not sure\",\"Refused\",\"Missing\",\"Don't know / Not sure\",\"Don't know/Not Sure\"]\n",
    "\n",
    "repval(\"CVDINFR4\", [\"Don't know/Not sure\", \"Refused\", \"Missing\"])\n",
    "repval(\"CVDCRHD4\", [\"Don't know/Not sure\", \"Refused\", \"Missing\"])\n",
    "repval(\"CVDSTRK3\", default)\n",
    "df[\"ASTHMA3\"] = df[\"ASTHMA3\"].replace([\"No -  Go to Section 07.06 CHCSCNC1\"], \"No\")\n",
    "repval(\"ASTHMA3\",\n",
    "       [\"Don't know/Not Sure -  Go to Section 07.06 CHCSCNC1\", \"Refused -  Go to Section 07.06 CHCSCNC1\", \"Missing\"])\n",
    "repval(\"CHCSCNC1\", default)\n",
    "repval(\"CHCOCNC1\", default)\n",
    "repval(\"CHCCOPD3\", default)\n",
    "repval(\"CHCKDNY2\", default)\n",
    "repval(\"HAVARTH4\", default)\n",
    "df[\"DIABETE4\"]=df[\"DIABETE4\"].replace([\"No -  Go to Section 08.01 AGE\"],\"No\")\n",
    "repval(\"DIABETE4\", [\"No, pre-diabetes or borderline diabetes -  Go to Section 08.01 AGE\", \"Yes, but female told only during pregnancy -  Go to Section 08.01 AGE\", \"Don't know/Not Sure -  Go to Section 08.01 AGE\", \"Refused -  Go to Section 08.01 AGE\"])\n",
    "df[\"EDUCA\"]=df[\"EDUCA\"].replace([\"College 4 years or more (College graduate)\"],\"Bachelors degree or Higher\")\n",
    "df[\"EDUCA\"]=df[\"EDUCA\"].replace([\"College 1 year to 3 years (Some college or technical school)\"],\"Some College or Associates\")\n",
    "df[\"EDUCA\"]=df[\"EDUCA\"].replace([\"Grade 12 or GED (High school graduate)\"],\"High School Graduate\")\n",
    "df[\"EDUCA\"]=df[\"EDUCA\"].replace([\"Grades 9 through 11 (Some high school)\"],\"Some High School\")\n",
    "df[\"EDUCA\"]=df[\"EDUCA\"].replace([\"Grades 1 through 8 (Elementary)\"],\"Elementary Only\")\n",
    "df[\"EDUCA\"]=df[\"EDUCA\"].replace([\"Never attended school or only kindergarten\"],\"None or Kindergarten Only\")\n",
    "repval(\"EDUCA\", default)\n",
    "repval(\"DEAF\", default)\n",
    "repval(\"BLIND\", default)\n",
    "repval(\"DECIDE\", default)\n",
    "repval(\"DIFFWALK\", default)\n",
    "repval(\"DIFFDRES\", default)\n",
    "repval(\"DIFFALON\", default)\n",
    "df[\"SMOKE100\"]=df[\"SMOKE100\"].replace([\"No -  Go to Section 12.03 USENOW3\"],\"No\")\n",
    "df[\"SMOKE100\"]=df[\"SMOKE100\"].replace([\"Don't know/Not Sure -  Go to Section 12.03 USENOW3\"],\"Don't know/Not Sure\")\n",
    "df[\"SMOKE100\"]=df[\"SMOKE100\"].replace([\"Refused -  Go to Section 12.03 USENOW3\"],\"Refused\")\n",
    "repval(\"SMOKE100\", default)\n",
    "df[\"ECIGNOW2\"]=df[\"ECIGNOW2\"].replace([\"Never used e-cigarettes in your entire life\"],\"Never\")\n",
    "df[\"ECIGNOW2\"]=df[\"ECIGNOW2\"].replace([\"Not at all (right now)\"],\"Not Currently\")\n",
    "df[\"ECIGNOW2\"]=df[\"ECIGNOW2\"].replace([\"Use them some days\"],\"Some Days\")\n",
    "df[\"ECIGNOW2\"]=df[\"ECIGNOW2\"].replace([\"Use them every day\"],\"Every Day\")\n",
    "df[\"FLUSHOT7\"]=df[\"FLUSHOT7\"].replace([\"No -  Go to Section 13.03 PNEUVAC4\"],\"No\")\n",
    "df[\"FLUSHOT7\"]=df[\"FLUSHOT7\"].replace([\"Don't know/Not Sure -  Go to Section 13.03 PNEUVAC4\"],\"Don't know/Not sure\")\n",
    "df[\"FLUSHOT7\"]=df[\"FLUSHOT7\"].replace([\"Refused -  Go to Section 13.03 PNEUVAC4\"],\"Refused\")\n",
    "repval(\"ECIGNOW2\", default)\n",
    "repval(\"FLUSHOT7\", default)\n",
    "repval(\"PNEUVAC4\", default)\n",
    "df[\"SEATBELT\"]=df[\"SEATBELT\"].replace([\"Never drive or ride in a car -  Go to Section 16.1 COVIDPO1\"],\"Refused\")\n",
    "\n",
    "repval(\"SEATBELT\", default)\n",
    "df[\"COVIDPO1\"]=df[\"COVIDPO1\"].replace([\"No -  Go to Modules or Closing Statement\"],\"No\")\n",
    "df[\"COVIDPO1\"]=df[\"COVIDPO1\"].replace([\"Refused -  Go to Modules or Closing Statement\"],\"Refused\")\n",
    "df[\"COVIDPO1\"]=df[\"COVIDPO1\"].replace([\"Don't know/Not Sure -  Go to Modules or Closing Statement\"],\"Don't know/Not sure\")\n",
    "\n",
    "repval(\"COVIDPO1\", default)\n",
    "repval(\"GENHLTH\", default)\n",
    "df[\"EXERANY2\"]=df[\"EXERANY2\"].replace([\"No -  Go to Section 04.08 STRENGTH\"],\"No\")\n",
    "df[\"EXERANY2\"]=df[\"EXERANY2\"].replace([\"Don't know/Not Sure -  Go to Section 04.08 STRENGTH\"],\"Don't know/Not sure\")\n",
    "df[\"EXERANY2\"]=df[\"EXERANY2\"].replace([\"Refused -  Go to Section 04.08 STRENGTH\"],\"Refused\")\n",
    "\n",
    "repval(\"EXERANY2\", default)\n",
    "repval(\"TOLDHI3\", default)"
   ],
   "outputs": [],
   "execution_count": null
  },
  {
   "cell_type": "code",
   "execution_count": null,
   "id": "03443526-cff4-4043-8b79-a1aee1de0301",
   "metadata": {
    "ExecuteTime": {
     "end_time": "2025-06-10T01:27:42.309786Z",
     "start_time": "2025-06-10T01:27:42.303541Z"
    }
   },
   "outputs": [],
   "source": [
    "i_graph(\"CVDCRHD4\")\n",
    "i_graph(\"ASTHMA3\")\n",
    "i_graph(\"CVDSTRK3\")\n",
    "i_graph(\"CHCSCNC1\")\n",
    "i_graph(\"CHCOCNC1\")\n",
    "i_graph(\"CHCCOPD3\")\n",
    "i_graph(\"CHCKDNY2\")\n",
    "i_graph(\"HAVARTH4\")\n",
    "i_graph(\"DIABETE4\")\n",
    "i_graph(\"EDUCA\")\n",
    "i_graph(\"DIFFDRES\")\n",
    "i_graph(\"BLIND\")\n",
    "i_graph(\"DEAF\")\n",
    "i_graph(\"DECIDE\")\n",
    "i_graph(\"DIFFWALK\")\n",
    "i_graph(\"DIFFALON\")\n",
    "i_graph(\"SMOKE100\")\n",
    "i_graph(\"ECIGNOW2\")\n",
    "i_graph(\"FLUSHOT7\")\n",
    "i_graph(\"PNEUVAC4\")\n",
    "i_graph(\"SEATBELT\")\n",
    "i_graph(\"COVIDPO1\")\n",
    "i_graph(\"GENHLTH\")\n",
    "i_graph(\"EXERANY2\")\n",
    "i_graph(\"TOLDHI3\")\n",
    "i_graph(\"CVDINFR4\")"
   ]
  },
  {
   "cell_type": "code",
   "execution_count": null,
   "id": "9be2051e-826c-4175-b7bd-5bcf7fac6827",
   "metadata": {
    "ExecuteTime": {
     "end_time": "2025-06-10T01:27:42.556321Z",
     "start_time": "2025-06-10T01:27:42.331704Z"
    }
   },
   "outputs": [],
   "source": ""
  },
  {
   "cell_type": "code",
   "execution_count": null,
   "id": "d09113bc-1e0d-4ddf-9c2d-507051573d5b",
   "metadata": {
    "ExecuteTime": {
     "end_time": "2025-06-10T01:27:42.573437Z",
     "start_time": "2025-06-10T01:27:42.566931Z"
    }
   },
   "outputs": [],
   "source": ""
  },
  {
   "cell_type": "code",
   "execution_count": null,
   "id": "fc8e0ea1-788e-4079-8c32-20265fcfbbb9",
   "metadata": {
    "ExecuteTime": {
     "end_time": "2025-06-10T01:27:42.801060Z",
     "start_time": "2025-06-10T01:27:42.590957Z"
    }
   },
   "outputs": [],
   "source": ""
  },
  {
   "cell_type": "code",
   "execution_count": null,
   "id": "73edd28a-e506-44e8-b1a3-4b06a058e078",
   "metadata": {
    "ExecuteTime": {
     "end_time": "2025-06-10T01:27:42.818005Z",
     "start_time": "2025-06-10T01:27:42.810975Z"
    }
   },
   "outputs": [],
   "source": ""
  },
  {
   "cell_type": "code",
   "execution_count": null,
   "id": "6fc35ec2-2c7c-4fd8-8909-51271eee4287",
   "metadata": {
    "ExecuteTime": {
     "end_time": "2025-06-10T01:27:43.169583Z",
     "start_time": "2025-06-10T01:27:43.163208Z"
    }
   },
   "outputs": [],
   "source": ""
  },
  {
   "cell_type": "code",
   "execution_count": null,
   "id": "e10e6317-82d1-422e-a6d3-a8a01a0ad3ec",
   "metadata": {
    "ExecuteTime": {
     "end_time": "2025-06-10T01:27:43.386581Z",
     "start_time": "2025-06-10T01:27:43.183150Z"
    }
   },
   "outputs": [],
   "source": ""
  },
  {
   "cell_type": "code",
   "execution_count": null,
   "id": "f323d073-b89f-4a99-a188-337edc9f84bc",
   "metadata": {
    "ExecuteTime": {
     "end_time": "2025-06-10T01:27:43.418218Z",
     "start_time": "2025-06-10T01:27:43.410226Z"
    }
   },
   "outputs": [],
   "source": ""
  },
  {
   "cell_type": "code",
   "execution_count": null,
   "id": "8b6ffc2a-884b-48fa-baa7-dd6a3854c72d",
   "metadata": {
    "ExecuteTime": {
     "end_time": "2025-06-10T01:27:43.639431Z",
     "start_time": "2025-06-10T01:27:43.436621Z"
    }
   },
   "outputs": [],
   "source": ""
  },
  {
   "cell_type": "code",
   "execution_count": null,
   "id": "96829661-59b6-433b-888b-3601f79d247c",
   "metadata": {
    "ExecuteTime": {
     "end_time": "2025-06-10T01:27:43.861555Z",
     "start_time": "2025-06-10T01:27:43.650Z"
    }
   },
   "outputs": [],
   "source": ""
  },
  {
   "cell_type": "code",
   "execution_count": null,
   "id": "1c18f8e8-ddef-4c36-b455-6fa247fcca2d",
   "metadata": {
    "ExecuteTime": {
     "end_time": "2025-06-10T01:27:44.083385Z",
     "start_time": "2025-06-10T01:27:43.873072Z"
    }
   },
   "outputs": [],
   "source": ""
  },
  {
   "cell_type": "code",
   "execution_count": null,
   "id": "dae6a61d-1d0a-40cd-a5f5-2c38ba7e57cf",
   "metadata": {
    "ExecuteTime": {
     "end_time": "2025-06-10T01:27:44.295162Z",
     "start_time": "2025-06-10T01:27:44.097988Z"
    }
   },
   "outputs": [],
   "source": ""
  },
  {
   "cell_type": "code",
   "execution_count": null,
   "id": "3a5321be-3a1c-48e3-a024-4b06e344b5cd",
   "metadata": {
    "ExecuteTime": {
     "end_time": "2025-06-10T01:27:44.556562Z",
     "start_time": "2025-06-10T01:27:44.299714Z"
    }
   },
   "outputs": [],
   "source": [
    "\n",
    "\n"
   ]
  },
  {
   "cell_type": "code",
   "execution_count": null,
   "id": "1ed2582d-0ca2-4d25-b3d4-d40f3c99a856",
   "metadata": {
    "ExecuteTime": {
     "end_time": "2025-06-10T01:27:44.956065Z",
     "start_time": "2025-06-10T01:27:44.570407Z"
    }
   },
   "outputs": [],
   "source": "\n"
  },
  {
   "cell_type": "code",
   "execution_count": null,
   "id": "f597c0f6-6c49-4eaa-aa92-95389f8e7d55",
   "metadata": {
    "ExecuteTime": {
     "end_time": "2025-06-10T01:27:45.183634Z",
     "start_time": "2025-06-10T01:27:44.973672Z"
    }
   },
   "outputs": [],
   "source": ""
  },
  {
   "metadata": {
    "ExecuteTime": {
     "end_time": "2025-06-10T01:27:45.407184Z",
     "start_time": "2025-06-10T01:27:45.189145Z"
    }
   },
   "cell_type": "code",
   "outputs": [],
   "execution_count": null,
   "source": "\n",
   "id": "e9e4d54b-86a1-4b4d-bf82-3b616925a94e"
  },
  {
   "cell_type": "code",
   "execution_count": null,
   "id": "ff0e9c71-516a-48e9-919f-a39f2c3a893e",
   "metadata": {
    "ExecuteTime": {
     "end_time": "2025-06-10T01:27:45.630263Z",
     "start_time": "2025-06-10T01:27:45.422091Z"
    }
   },
   "outputs": [],
   "source": ""
  },
  {
   "cell_type": "code",
   "execution_count": null,
   "id": "55384936-7423-49b2-a42f-33b627c9be43",
   "metadata": {
    "ExecuteTime": {
     "end_time": "2025-06-10T01:27:45.856145Z",
     "start_time": "2025-06-10T01:27:45.649095Z"
    }
   },
   "outputs": [],
   "source": ""
  },
  {
   "cell_type": "code",
   "execution_count": null,
   "id": "0931ed62-c427-4181-9bb7-20102b709d66",
   "metadata": {
    "ExecuteTime": {
     "end_time": "2025-06-10T01:27:46.090395Z",
     "start_time": "2025-06-10T01:27:45.874643Z"
    }
   },
   "outputs": [],
   "source": ""
  },
  {
   "cell_type": "code",
   "execution_count": null,
   "id": "06b0ea4e-c603-48dc-9d9c-945fa45b4534",
   "metadata": {
    "ExecuteTime": {
     "end_time": "2025-06-10T01:27:46.311920Z",
     "start_time": "2025-06-10T01:27:46.100439Z"
    }
   },
   "outputs": [],
   "source": ""
  },
  {
   "cell_type": "code",
   "execution_count": null,
   "id": "aba81c57-9220-4d93-8b59-031fd04c94ca",
   "metadata": {
    "ExecuteTime": {
     "end_time": "2025-06-10T01:27:46.696672Z",
     "start_time": "2025-06-10T01:27:46.327114Z"
    }
   },
   "outputs": [],
   "source": "\n"
  },
  {
   "cell_type": "code",
   "execution_count": null,
   "id": "5b5aff20-5c47-44da-ad8e-bfdf32b9fab6",
   "metadata": {
    "ExecuteTime": {
     "end_time": "2025-06-10T01:27:47.103958Z",
     "start_time": "2025-06-10T01:27:46.713651Z"
    }
   },
   "outputs": [],
   "source": "\n"
  },
  {
   "cell_type": "code",
   "execution_count": null,
   "id": "1c84bafc-1c8d-49ae-b53a-07fc0af0b5d7",
   "metadata": {
    "ExecuteTime": {
     "end_time": "2025-06-10T01:27:47.483392Z",
     "start_time": "2025-06-10T01:27:47.120283Z"
    }
   },
   "outputs": [],
   "source": "\n"
  },
  {
   "cell_type": "code",
   "execution_count": null,
   "id": "7b85af53-6bd5-400c-944c-868357c21835",
   "metadata": {
    "ExecuteTime": {
     "end_time": "2025-06-10T01:27:47.710620Z",
     "start_time": "2025-06-10T01:27:47.501539Z"
    }
   },
   "outputs": [],
   "source": ""
  },
  {
   "cell_type": "code",
   "execution_count": null,
   "id": "5cc4eeb9-afff-40c4-b3d9-59d7016688c1",
   "metadata": {
    "ExecuteTime": {
     "end_time": "2025-06-10T01:27:48.002684Z",
     "start_time": "2025-06-10T01:27:47.723662Z"
    }
   },
   "outputs": [],
   "source": ""
  },
  {
   "cell_type": "code",
   "execution_count": null,
   "id": "53817140-84c4-479f-8aad-e9cdb85e3066",
   "metadata": {
    "ExecuteTime": {
     "end_time": "2025-06-10T01:27:48.372234Z",
     "start_time": "2025-06-10T01:27:48.010876Z"
    }
   },
   "outputs": [],
   "source": ""
  },
  {
   "cell_type": "code",
   "execution_count": null,
   "id": "8a59ea02-507d-4c99-b85a-cea84d9fcb66",
   "metadata": {
    "ExecuteTime": {
     "end_time": "2025-06-10T01:27:48.599267Z",
     "start_time": "2025-06-10T01:27:48.381797Z"
    }
   },
   "outputs": [],
   "source": "\n"
  },
  {
   "cell_type": "code",
   "execution_count": null,
   "id": "e37baa0e-77db-4a72-9f49-60f0ca4e9515",
   "metadata": {
    "ExecuteTime": {
     "end_time": "2025-06-10T01:27:48.925572Z",
     "start_time": "2025-06-10T01:27:48.607305Z"
    }
   },
   "outputs": [],
   "source": ""
  },
  {
   "cell_type": "code",
   "execution_count": null,
   "id": "c60fd4cc-85d0-425a-8d91-95e81896a06c",
   "metadata": {
    "ExecuteTime": {
     "end_time": "2025-06-10T01:27:49.120341Z",
     "start_time": "2025-06-10T01:27:48.934611Z"
    }
   },
   "outputs": [],
   "source": "\n"
  },
  {
   "cell_type": "code",
   "execution_count": null,
   "id": "8a6c4b37-eacb-4678-ad26-15e09ed0359f",
   "metadata": {
    "ExecuteTime": {
     "end_time": "2025-06-10T01:27:49.139873Z",
     "start_time": "2025-06-10T01:27:49.130709Z"
    }
   },
   "outputs": [],
   "source": [
    "df.head()"
   ]
  },
  {
   "cell_type": "code",
   "execution_count": null,
   "id": "f9642b0e-7b3f-45a2-8853-5b03046d09f9",
   "metadata": {
    "ExecuteTime": {
     "end_time": "2025-06-10T01:27:49.867802Z",
     "start_time": "2025-06-10T01:27:49.174244Z"
    }
   },
   "outputs": [],
   "source": [
    "print(df.isna().sum())\n",
    "print(df.shape)\n",
    "df.dropna(inplace=True)\n",
    "print(df.shape)\n"
   ]
  },
  {
   "cell_type": "code",
   "execution_count": null,
   "id": "571b3a8d-ae58-4637-b7d9-5a306b5c0220",
   "metadata": {
    "ExecuteTime": {
     "end_time": "2025-06-10T01:27:50.055301Z",
     "start_time": "2025-06-10T01:27:49.899303Z"
    }
   },
   "outputs": [],
   "source": [
    "columns_to_check = ['CVDINFR4', 'CVDCRHD4', 'CVDSTRK3','ASTHMA3','CHCSCNC1','CHCOCNC1','CHCCOPD3','CHCKDNY2','HAVARTH4','DIABETE4']\n",
    "chronic_col = columns_to_check\n",
    "df['ALL_CHRONIC'] = df[columns_to_check].eq('Yes').any(axis=1).map({True: 'Yes', False: 'No'})\n"
   ]
  },
  {
   "cell_type": "code",
   "execution_count": null,
   "id": "7030ae91-e282-413e-9b69-592e0c4a1c2c",
   "metadata": {
    "ExecuteTime": {
     "end_time": "2025-06-10T01:27:50.078076Z",
     "start_time": "2025-06-10T01:27:50.070533Z"
    }
   },
   "outputs": [],
   "source": [
    "df.head"
   ]
  },
  {
   "cell_type": "code",
   "execution_count": null,
   "id": "3f5e4845-4740-49ec-b9df-414b3a1d1c37",
   "metadata": {
    "ExecuteTime": {
     "end_time": "2025-06-10T01:27:50.210270Z",
     "start_time": "2025-06-10T01:27:50.086711Z"
    }
   },
   "outputs": [],
   "source": [
    "df['ALL_CHRONIC'].value_counts(dropna=False)\n",
    "df['ALL_CHRONIC'].value_counts().plot(kind='bar')\n",
    "plt.title('Any Chronic Condition')\n",
    "plt.xlabel('Response')\n",
    "plt.ylabel('Count')\n",
    "title = plt.gca().get_title()\n",
    "filename = title.replace(\" \", \"_\").replace(\"/\", \"-\") + \".jpg\"\n",
    "plt.savefig(filename, format='jpg', dpi=300)\n",
    "plt.show()\n",
    "df['ALL_CHRONIC'].value_counts(normalize=True, dropna=False)"
   ]
  },
  {
   "cell_type": "code",
   "execution_count": null,
   "id": "64a3d20a-244e-4612-a8ae-d9b1a04a0266",
   "metadata": {
    "ExecuteTime": {
     "end_time": "2025-06-10T01:27:50.297680Z",
     "start_time": "2025-06-10T01:27:50.243702Z"
    }
   },
   "outputs": [],
   "source": [
    "columns_to_check = ['CVDINFR4', 'CVDCRHD4', 'CVDSTRK3']\n",
    "\n",
    "df['ALL_CARDIAC'] = df[columns_to_check].eq('Yes').any(axis=1).map({True: 'Yes', False: 'No'})"
   ]
  },
  {
   "cell_type": "code",
   "execution_count": null,
   "id": "da4b4a1c-7721-4d9b-9349-c835619d99b4",
   "metadata": {
    "ExecuteTime": {
     "end_time": "2025-06-10T01:27:50.445403Z",
     "start_time": "2025-06-10T01:27:50.328573Z"
    }
   },
   "outputs": [],
   "source": [
    "df['ALL_CARDIAC'].value_counts(dropna=False)\n",
    "df['ALL_CARDIAC'].value_counts().plot(kind='bar')\n",
    "plt.title('Any Cardiac Condition')\n",
    "plt.xlabel('Response')\n",
    "plt.ylabel('Count')\n",
    "title = plt.gca().get_title()\n",
    "filename = title.replace(\" \", \"_\").replace(\"/\", \"-\") + \".jpg\"\n",
    "plt.savefig(filename, format='jpg', dpi=300)\n",
    "plt.show()\n",
    "df['ALL_CARDIAC'].value_counts(normalize=True, dropna=False)"
   ]
  },
  {
   "cell_type": "code",
   "execution_count": null,
   "id": "1ee57840-a255-459c-a40b-5fab25b2c67e",
   "metadata": {
    "ExecuteTime": {
     "end_time": "2025-06-10T01:27:50.520520Z",
     "start_time": "2025-06-10T01:27:50.483560Z"
    }
   },
   "outputs": [],
   "source": [
    "columns_to_check = ['CHCSCNC1','CHCOCNC1']\n",
    "\n",
    "df['ALL_CANCER'] = df[columns_to_check].eq('Yes').any(axis=1).map({True: 'Yes', False: 'No'})"
   ]
  },
  {
   "cell_type": "code",
   "execution_count": null,
   "id": "6ddc9553-f0bc-4fce-9a76-fc73bd3ed5f1",
   "metadata": {
    "ExecuteTime": {
     "end_time": "2025-06-10T01:27:50.672601Z",
     "start_time": "2025-06-10T01:27:50.551262Z"
    }
   },
   "outputs": [],
   "source": [
    "df['ALL_CANCER'].value_counts(dropna=False)\n",
    "df['ALL_CANCER'].value_counts().plot(kind='bar')\n",
    "plt.title('Any Cancer Response')\n",
    "plt.xlabel('Response')\n",
    "plt.ylabel('Count')\n",
    "title = plt.gca().get_title()\n",
    "filename = title.replace(\" \", \"_\").replace(\"/\", \"-\") + \".jpg\"\n",
    "plt.savefig(filename, format='jpg', dpi=300)\n",
    "plt.show()\n",
    "df['ALL_CANCER'].value_counts(normalize=True, dropna=False)"
   ]
  },
  {
   "cell_type": "code",
   "execution_count": null,
   "id": "c05c5253-dd48-4978-bd31-9490794b45d4",
   "metadata": {
    "ExecuteTime": {
     "end_time": "2025-06-10T01:27:50.750310Z",
     "start_time": "2025-06-10T01:27:50.705359Z"
    }
   },
   "outputs": [],
   "source": [
    "columns_to_check = ['ASTHMA3','CHCCOPD3']\n",
    "\n",
    "df['ALL_PUL'] = df[columns_to_check].eq('Yes').any(axis=1).map({True: 'Yes', False: 'No'})"
   ]
  },
  {
   "cell_type": "code",
   "execution_count": null,
   "id": "7d013c55-2f19-4760-a842-a52108bc74fc",
   "metadata": {
    "ExecuteTime": {
     "end_time": "2025-06-10T01:27:50.911687Z",
     "start_time": "2025-06-10T01:27:50.789196Z"
    }
   },
   "outputs": [],
   "source": [
    "df['ALL_PUL'].value_counts(dropna=False)\n",
    "df['ALL_PUL'].value_counts().plot(kind='bar')\n",
    "plt.title('Any Pulmonary Response')\n",
    "plt.xlabel('Response')\n",
    "plt.ylabel('Count')\n",
    "title = plt.gca().get_title()\n",
    "filename = title.replace(\" \", \"_\").replace(\"/\", \"-\") + \".jpg\"\n",
    "plt.savefig(filename, format='jpg', dpi=300)\n",
    "plt.show()\n",
    "df['ALL_PUL'].value_counts(normalize=True, dropna=False)"
   ]
  },
  {
   "cell_type": "code",
   "execution_count": null,
   "id": "7f5cf39b-ecc5-4056-b12c-c7b3235e6991",
   "metadata": {
    "ExecuteTime": {
     "end_time": "2025-06-10T01:27:51.273464Z",
     "start_time": "2025-06-10T01:27:50.949107Z"
    }
   },
   "outputs": [],
   "source": [
    "\n",
    "\n",
    "columns_to_check = [\n",
    "    'CVDINFR4', 'CVDCRHD4', 'CVDSTRK3',\n",
    "    'ASTHMA3', 'CHCSCNC1', 'CHCOCNC1',\n",
    "    'CHCCOPD3', 'CHCKDNY2', 'HAVARTH4', 'DIABETE4'\n",
    "]\n",
    "yes_rates = {\n",
    "    col: (df[col] == \"Yes\").mean() * 100  \n",
    "    for col in columns_to_check\n",
    "}\n",
    "\n",
    "\n",
    "yes_df = pd.Series(yes_rates).sort_values(ascending=False)\n",
    "\n",
    "ax = yes_df.plot(kind='bar')\n",
    "plt.title('Percentage of Yes Responses by Condition')\n",
    "plt.ylabel('Percentage (%)')\n",
    "plt.xlabel('Condition')\n",
    "plt.xticks(rotation=45, ha='right')\n",
    "plt.tight_layout()\n",
    "title = plt.gca().get_title()\n",
    "filename = title.replace(\" \", \"_\").replace(\"/\", \"-\") + \".jpg\"\n",
    "plt.savefig(filename, format='jpg', dpi=300)\n",
    "plt.show()\n"
   ]
  },
  {
   "cell_type": "code",
   "execution_count": null,
   "id": "02802ef2-c158-4849-a82c-4a01d989552a",
   "metadata": {
    "ExecuteTime": {
     "end_time": "2025-06-10T01:27:51.309177Z",
     "start_time": "2025-06-10T01:27:51.305069Z"
    }
   },
   "outputs": [],
   "source": [
    "column_list = df.columns.tolist()\n",
    "print(column_list)\n",
    "feature_list = [col for col in column_list if col not in chronic_col]\n",
    "deriv_col = ['ALL_CHRONIC','ALL_CARDIAC','ALL_CANCER','ALL_PUL']"
   ]
  },
  {
   "cell_type": "code",
   "execution_count": null,
   "id": "fea57710-8838-461d-8476-295873cbbd45",
   "metadata": {
    "ExecuteTime": {
     "end_time": "2025-06-10T01:27:51.331019Z",
     "start_time": "2025-06-10T01:27:51.328656Z"
    }
   },
   "outputs": [],
   "source": [
    "feature_list = [col for col in feature_list if col not in deriv_col]\n",
    "print(feature_list)"
   ]
  },
  {
   "cell_type": "code",
   "execution_count": null,
   "id": "383cef46-6c8d-4fca-bf50-fc7cf11109ce",
   "metadata": {
    "ExecuteTime": {
     "end_time": "2025-06-10T01:27:53.278419Z",
     "start_time": "2025-06-10T01:27:51.340631Z"
    },
    "editable": true,
    "slideshow": {
     "slide_type": ""
    },
    "tags": []
   },
   "outputs": [],
   "source": [
    "for col in feature_list:\n",
    "    counts = df[col].value_counts(dropna=False)\n",
    "\n",
    "    # Print counts for reference\n",
    "    print(f\"\\nValue counts for {col}:\\n{counts}\")\n",
    "\n",
    "    # Plot\n",
    "    ax = counts.plot(kind='bar')\n",
    "    plt.title(f'Distribution of {col}')\n",
    "    plt.xlabel('Response')\n",
    "    plt.ylabel('Count')\n",
    "    title = plt.gca().get_title()\n",
    "    filename = title.replace(\" \", \"_\").replace(\"/\", \"-\") + \".jpg\"\n",
    "    plt.savefig(filename, format='jpg', dpi=300)\n",
    "\n",
    "    #plt.tight_layout()\n",
    "    plt.show()"
   ]
  },
  {
   "cell_type": "code",
   "execution_count": null,
   "id": "7729234a-2fd2-49a4-8452-0e2968846275",
   "metadata": {
    "ExecuteTime": {
     "end_time": "2025-06-10T01:27:53.292225Z",
     "start_time": "2025-06-10T01:27:53.289360Z"
    }
   },
   "outputs": [],
   "source": [
    "bool_feat = ['DEAF', 'BLIND', 'DECIDE', 'DIFFWALK', 'DIFFDRES',\n",
    "              'DIFFALON', 'SMOKE100', 'FLUSHOT7', 'PNEUVAC4',\n",
    "               'COVIDPO1', 'EXERANY2', 'TOLDHI3']\n",
    "cat_feat=['GENHLTH', 'SEATBELT','ECIGNOW2','EDUCA']"
   ]
  },
  {
   "cell_type": "code",
   "execution_count": null,
   "id": "c24eb7e9-9440-4e02-a731-e17cad3f0402",
   "metadata": {
    "ExecuteTime": {
     "end_time": "2025-06-10T01:27:54.076542Z",
     "start_time": "2025-06-10T01:27:53.302922Z"
    }
   },
   "outputs": [],
   "source": [
    "lifestyle_factors = bool_feat  \n",
    "heat_data = {}\n",
    "\n",
    "for col in lifestyle_factors:\n",
    "    yes_rate = df[df[col] == 'Yes']['ALL_CHRONIC'].value_counts(normalize=True)\n",
    "    heat_data[col] = yes_rate\n",
    "\n",
    "heat_df = pd.DataFrame(heat_data).T.fillna(0)\n",
    "\n",
    "sns.heatmap(heat_df, annot=True, cmap='Blues')\n",
    "plt.title(\"Chronic Condition Rates Among Respondents With Each Reported Risk Factor\")\n",
    "plt.ylabel(\"Risk Factor\")\n",
    "plt.xlabel(\"Chronic Condition\")\n",
    "plt.tight_layout()\n",
    "plt.savefig(\"chronic_condition_heatmap.jpg\", format='jpg', dpi=300, bbox_inches='tight')\n",
    "\n",
    "plt.show()\n"
   ]
  },
  {
   "cell_type": "code",
   "execution_count": null,
   "id": "490c3b00-48ee-44bd-a54d-327ca4fd3b44",
   "metadata": {
    "ExecuteTime": {
     "end_time": "2025-06-10T01:27:55.269238Z",
     "start_time": "2025-06-10T01:27:54.088666Z"
    }
   },
   "outputs": [],
   "source": [
    "heat_data={}\n",
    "for col in lifestyle_factors:\n",
    "    yes_rate = df[df[col] == 'No']['ALL_CHRONIC'].value_counts(normalize=True)\n",
    "    heat_data[col] = yes_rate\n",
    "\n",
    "heat_df = pd.DataFrame(heat_data).T.fillna(0)\n",
    "heat_df = heat_df[['Yes', 'No']]\n",
    "sns.heatmap(heat_df, annot=True, cmap='Blues')\n",
    "plt.title(\"Chronic Condition Rates Among Respondents Without Each Reported Risk Factor\")\n",
    "plt.ylabel(\"Risk Factor\")\n",
    "plt.xlabel(\"Chronic Condition\")\n",
    "plt.tight_layout()\n",
    "plt.savefig(\"neg_chronic_condition_heatmap.jpg\", format='jpg', dpi=300,bbox_inches='tight')\n",
    "plt.show()"
   ]
  },
  {
   "cell_type": "code",
   "execution_count": null,
   "id": "76f8b14b-05a3-4bb5-a090-2e3d4cf8fb1b",
   "metadata": {
    "ExecuteTime": {
     "end_time": "2025-06-10T01:27:55.527306Z",
     "start_time": "2025-06-10T01:27:55.281748Z"
    }
   },
   "outputs": [],
   "source": [
    "#######USED IN EDA#####\n",
    "\n",
    "edu_chronic = df.groupby('EDUCA')['ALL_CHRONIC'].value_counts(normalize=True).unstack().fillna(0)\n",
    "ordered_levels = [\"Bachelors degree or Higher\",\"Some College or Associates\", \"High School Graduate\", \"Elementary Only\", \"None or Kindergarten Only\"]\n",
    "edu_chronic = edu_chronic.loc[ordered_levels]\n",
    "\n",
    "edu_chronic.plot(kind='bar', stacked=True)\n",
    "plt.title('Chronic Condition Distribution by Education Level')\n",
    "plt.xlabel('Education Level')\n",
    "plt.ylabel('Proportion')\n",
    "plt.legend(title='Has Chronic Condition')\n",
    "plt.xticks(rotation=45, ha='right')\n",
    "plt.tight_layout()\n",
    "plt.savefig(\"educationvschronic.jpg\", format='jpg', dpi=300,bbox_inches='tight')\n",
    "plt.show()"
   ]
  },
  {
   "cell_type": "code",
   "execution_count": null,
   "id": "046954a2-2584-43f8-9147-e8dcb7ca5571",
   "metadata": {
    "ExecuteTime": {
     "end_time": "2025-06-10T01:27:57.534387Z",
     "start_time": "2025-06-10T01:27:55.530318Z"
    }
   },
   "outputs": [],
   "source": [
    "##### USED IN EDA#####\n",
    "\n",
    "features = ['ECIGNOW2', 'SEATBELT', 'GENHLTH']\n",
    "\n",
    "# Friendly labels for x-axis\n",
    "x_labels = {\n",
    "    'ECIGNOW2': 'E-Cigarette Use',\n",
    "    'SEATBELT': 'Seatbelt Use Frequency',\n",
    "    'GENHLTH': 'General Health'\n",
    "}\n",
    "\n",
    "#Fix the order of the labels\n",
    "category_orders = {\n",
    "    'ECIGNOW2': ['Every Day', 'Some Days', 'Not Currently', 'Never'],  \n",
    "    'SEATBELT': ['Always', 'Nearly always', 'Sometimes', 'Seldom', 'Never'],\n",
    "    'GENHLTH': ['Excellent', 'Very good', 'Good', 'Fair', 'Poor']\n",
    "}\n",
    "\n",
    "for col in features:\n",
    "\n",
    "    ctab = pd.crosstab(df[col], df['ALL_CHRONIC'], normalize='index').fillna(0)\n",
    "    if col in category_orders:\n",
    "        ctab = ctab.reindex(category_orders[col])\n",
    "    ax = ctab.plot(kind='bar', stacked=True, figsize=(8, 4))\n",
    "    plt.title(f'Chronic Condition Distribution by {x_labels[col]}')\n",
    "    plt.xlabel(x_labels[col])\n",
    "    plt.ylabel('Proportion')\n",
    "    plt.legend(title='Has Chronic Condition')\n",
    "    plt.xticks(rotation=45, ha='right')\n",
    "    plt.tight_layout()\n",
    "\n",
    "    filename = f\"chronic_vs_{col}.jpg\".replace(\" \", \"_\").lower()\n",
    "    plt.savefig(filename, format='jpg', dpi=300, bbox_inches='tight')\n",
    "    plt.show()\n"
   ]
  },
  {
   "cell_type": "code",
   "execution_count": null,
   "id": "54cab0e7-09c5-425e-af50-f759e01ba0f7",
   "metadata": {
    "ExecuteTime": {
     "end_time": "2025-06-10T01:28:04.531969Z",
     "start_time": "2025-06-10T01:27:57.616303Z"
    }
   },
   "outputs": [],
   "source": [
    "from pathlib import Path\n",
    "\n",
    "file_path = Path(\"rq3_filtered.parquet\")\n",
    "if file_path.exists():\n",
    "    print(\"File exists.\")\n",
    "else:\n",
    "    print(\"File not found.\")\n",
    "    df.to_parquet(\n",
    "        \"rq3_filtered.parquet\",\n",
    "        engine=\"pyarrow\",\n",
    "        compression=\"BROTLI\",\n",
    "        compression_level=11,\n",
    "        index=False\n",
    "    )"
   ]
  },
  {
   "cell_type": "code",
   "execution_count": null,
   "id": "1c968290-fec3-4e68-9d62-3dfef7ca878b",
   "metadata": {
    "ExecuteTime": {
     "end_time": "2025-06-10T01:28:05.717898Z",
     "start_time": "2025-06-10T01:28:04.578252Z"
    }
   },
   "outputs": [],
   "source": [
    "\n",
    "df_clustered = df.copy()\n",
    "df_testval, df_train = train_test_split(\n",
    "    df, test_size=0.70, random_state=42, stratify=df[\"ALL_CHRONIC\"]\n",
    ")\n",
    "\n",
    "\n",
    "df_test, df_val = train_test_split(\n",
    "    df_testval, test_size=0.50, random_state=42, stratify=df_testval[\"ALL_CHRONIC\"]\n",
    ")\n",
    "\n",
    "print(f\"Train shape: {df_train.shape}\")\n",
    "print(f\"Validation shape: {df_val.shape}\")\n",
    "print(f\"Test shape: {df_test.shape}\")\n",
    "df_train.head()"
   ]
  },
  {
   "cell_type": "code",
   "execution_count": null,
   "id": "618f0e5e-212d-499f-9fde-df8131fdb0d3",
   "metadata": {
    "ExecuteTime": {
     "end_time": "2025-06-10T01:39:21.043705Z",
     "start_time": "2025-06-10T01:37:17.283661Z"
    }
   },
   "outputs": [],
   "source": [
    "\n",
    "file_path = Path(\"rq3_all_kresults.parquet\")\n",
    "if file_path.exists():\n",
    "    print(\"File exists.\")\n",
    "    all_kresults = pd.read_parquet(file_path)\n",
    "    print(all_kresults.head())\n",
    "else:\n",
    "    print(\"Save not found, running tuner...May take a while...\")\n",
    "    all_kresults = j_clustertuner.kmode_tune(df_test,df_val,feature_list,cores=23)\n",
    "file_path = Path(\"rqs_all_tresults.parquet\")\n",
    "if file_path.exists():\n",
    "    print(\"File exists.\")\n",
    "    all_tresults = pd.read_parquet(file_path)\n",
    "    print(all_tresults.head())\n",
    "\n",
    "else:\n",
    "    print(\"Save not found, running tuner...May take a while...\")\n",
    "    \n",
    "\n",
    "    all_tresults = j_clustertuner.tflow_tune(df_test,df_val,feature_list,)\n",
    "\n",
    "\n",
    "\n"
   ]
  },
  {
   "cell_type": "code",
   "execution_count": null,
   "id": "a05a6719-4eb9-4f8d-81ab-291129018c71",
   "metadata": {},
   "outputs": [],
   "source": [
    "def clean_nested_objects(entry):\n",
    "    def fix_value(v):\n",
    "        if isinstance(v, pd.Series) or isinstance(v, np.ndarray):\n",
    "            return v.tolist()\n",
    "        return v\n",
    "    return {k: fix_value(v) for k, v in entry.items()}\n",
    "\n",
    "\n",
    "\n",
    "file_path = Path(\"rq3_all_kresults.parquet\")\n",
    "if file_path.exists():\n",
    "    print(\"File exists.\")\n",
    "else:\n",
    "    print(\"Save not found, running tuner...May take a while...\")\n",
    "# Save to Parquet\n",
    "    all_kresults = [clean_nested_objects(item) for item in all_kresults]\n",
    "    all_kresults = pd.DataFrame(all_kresults)    \n",
    "    all_kresults.to_parquet(\n",
    "        \"rq3_all_kresults.parquet\",\n",
    "        engine=\"pyarrow\",\n",
    "        compression=\"BROTLI\",\n",
    "        compression_level=11,\n",
    "        index=False\n",
    "    )\n",
    "\n",
    "file_path = Path(\"rqs_all_tresults.parquet\")\n",
    "if file_path.exists():\n",
    "    print(\"File exists.\")\n",
    "\n",
    "else:\n",
    "    print(\"Save not found, saving...\")\n",
    "    all_tresults = [clean_nested_objects(item) for item in all_tresults]\n",
    "\n",
    "# Now convert to DataFrames\n",
    "\n",
    "    all_tresults = pd.DataFrame(all_tresults)    \n",
    "    all_tresults.to_parquet(\n",
    "        \"rqs_all_tresults.parquet\",\n",
    "        engine=\"pyarrow\",\n",
    "        compression=\"BROTLI\",\n",
    "        compression_level=11,\n",
    "        index=False\n",
    "    )\n",
    "\n",
    "\n",
    "\n",
    "\n",
    "\n",
    "\n"
   ]
  },
  {
   "cell_type": "code",
   "execution_count": null,
   "id": "e0440f51-ef94-4451-9cb2-dc2d00bfb08c",
   "metadata": {},
   "outputs": [],
   "source": [
    "all_tresults.head()\n"
   ]
  },
  {
   "cell_type": "code",
   "execution_count": null,
   "id": "418f8104-fe00-41c9-867e-0caea61102e0",
   "metadata": {},
   "outputs": [],
   "source": [
    "from joblib import cpu_count\n",
    "\n",
    "n_cores = cpu_count()\n",
    "print(f\"Available cores: {n_cores}\")"
   ]
  }
 ],
 "metadata": {
  "kernelspec": {
   "display_name": "Python [conda env:base] *",
   "language": "python",
   "name": "conda-base-py"
  },
  "language_info": {
   "codemirror_mode": {
    "name": "ipython",
    "version": 3
   },
   "file_extension": ".py",
   "mimetype": "text/x-python",
   "name": "python",
   "nbconvert_exporter": "python",
   "pygments_lexer": "ipython3",
   "version": "3.12.4"
  }
 },
 "nbformat": 4,
 "nbformat_minor": 5
}
